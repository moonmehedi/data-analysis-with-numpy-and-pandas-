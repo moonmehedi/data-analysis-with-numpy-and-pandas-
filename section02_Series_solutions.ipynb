{
 "cells": [
  {
   "cell_type": "code",
   "execution_count": 1,
   "id": "b2d1c5b7",
   "metadata": {},
   "outputs": [],
   "source": [
    "import pandas as pd\n",
    "import numpy as np"
   ]
  },
  {
   "cell_type": "markdown",
   "id": "31a24d50",
   "metadata": {},
   "source": [
    "# Assignment 1: Series Basics\n",
    "\n",
    "The code has been previded to create an array, `oil_array` from a dataframe column. \n",
    "\n",
    "* Convert `oil_array` into a Pandas Series, called `oil_series`. Give it a name!\n",
    "* Return the name, dtype, size, and index of `oil_series`.\n",
    "\n",
    "Take the mean of the values array. \n",
    "\n",
    "Then, convert the series to integer datatype and recalculate the mean. \n"
   ]
  },
  {
   "cell_type": "code",
   "execution_count": 2,
   "id": "df36e3d6",
   "metadata": {},
   "outputs": [
    {
     "data": {
      "text/plain": [
       "array([52.22, 51.44, 51.98, 52.01, 52.82, 54.01, 53.8 , 53.75, 52.36,\n",
       "       53.26, 53.77, 53.98, 51.95, 50.82, 52.19, 53.01, 52.36, 52.45,\n",
       "       51.12, 51.39, 52.33, 52.77, 52.38, 52.14, 53.24, 53.18, 52.63,\n",
       "       52.75, 53.9 , 53.55, 53.81, 53.01, 52.19, 52.37, 52.99, 53.84,\n",
       "       52.96, 53.21, 53.11, 53.41, 53.41, 54.02, 53.61, 54.48, 53.99,\n",
       "       54.04, 54.  , 53.82, 52.63, 53.33, 53.19, 52.68, 49.83, 48.75,\n",
       "       48.05, 47.95, 47.24, 48.34, 48.3 , 48.34, 47.79, 47.02, 47.29,\n",
       "       47.  , 47.3 , 47.02, 48.36, 49.47, 50.3 , 50.54, 50.25, 50.99,\n",
       "       51.14, 51.69, 52.25, 53.06, 53.38, 53.12, 53.19, 52.62, 52.46,\n",
       "       50.49, 50.26, 49.64, 48.9 , 49.22, 49.22, 48.96, 49.31, 48.83,\n",
       "       47.65, 47.79, 45.55, 46.23, 46.46, 45.84, 47.28, 47.81, 47.83,\n",
       "       48.86])"
      ]
     },
     "execution_count": 2,
     "metadata": {},
     "output_type": "execute_result"
    }
   ],
   "source": [
    "# create a DataFrame from the oil file, drop missing values\n",
    "oil = pd.read_csv(\"../retail/oil.csv\").dropna()\n",
    "\n",
    "# Grab 100 rows of oil prices\n",
    "oil_array = np.array(oil[\"dcoilwtico\"].iloc[1000:1100])\n",
    "\n",
    "oil_array"
   ]
  },
  {
   "cell_type": "code",
   "execution_count": 3,
   "id": "fc70abd0",
   "metadata": {},
   "outputs": [
    {
     "data": {
      "text/plain": [
       "0     52.22\n",
       "1     51.44\n",
       "2     51.98\n",
       "3     52.01\n",
       "4     52.82\n",
       "      ...  \n",
       "95    45.84\n",
       "96    47.28\n",
       "97    47.81\n",
       "98    47.83\n",
       "99    48.86\n",
       "Name: oil_prices, Length: 100, dtype: float64"
      ]
     },
     "execution_count": 3,
     "metadata": {},
     "output_type": "execute_result"
    }
   ],
   "source": [
    "# convert oil_array to a series\n",
    "\n",
    "oil_series = pd.Series(oil_array, name=\"oil_prices\")\n",
    "              \n",
    "oil_series"
   ]
  },
  {
   "cell_type": "code",
   "execution_count": 4,
   "id": "54190e1a",
   "metadata": {},
   "outputs": [
    {
     "name": "stdout",
     "output_type": "stream",
     "text": [
      "Name: oil_prices\n",
      "dtype: float64\n",
      "size: 100\n",
      "index: RangeIndex(start=0, stop=100, step=1)\n"
     ]
    }
   ],
   "source": [
    "print(f\"Name: {oil_series.name}\")\n",
    "print(f\"dtype: {oil_series.dtype}\")\n",
    "print(f\"size: {oil_series.size}\")\n",
    "print(f\"index: {oil_series.index}\")"
   ]
  },
  {
   "cell_type": "code",
   "execution_count": 5,
   "id": "7bf43cdc",
   "metadata": {},
   "outputs": [
    {
     "data": {
      "text/plain": [
       "51.128299999999996"
      ]
     },
     "execution_count": 5,
     "metadata": {},
     "output_type": "execute_result"
    }
   ],
   "source": [
    "oil_series.values.mean()"
   ]
  },
  {
   "cell_type": "code",
   "execution_count": 6,
   "id": "96a0fb2a",
   "metadata": {},
   "outputs": [
    {
     "data": {
      "text/plain": [
       "RangeIndex(start=0, stop=100, step=1)"
      ]
     },
     "execution_count": 6,
     "metadata": {},
     "output_type": "execute_result"
    }
   ],
   "source": [
    "oil_series.index"
   ]
  },
  {
   "cell_type": "code",
   "execution_count": 7,
   "id": "1b6d11ee",
   "metadata": {},
   "outputs": [
    {
     "data": {
      "text/plain": [
       "dtype('int64')"
      ]
     },
     "execution_count": 7,
     "metadata": {},
     "output_type": "execute_result"
    }
   ],
   "source": [
    "oil_series.index.dtype"
   ]
  },
  {
   "cell_type": "code",
   "execution_count": 8,
   "id": "d5bc48f2",
   "metadata": {},
   "outputs": [
    {
     "data": {
      "text/plain": [
       "50.66"
      ]
     },
     "execution_count": 8,
     "metadata": {},
     "output_type": "execute_result"
    }
   ],
   "source": [
    "oil_series.astype(\"int\").values.mean()"
   ]
  },
  {
   "cell_type": "markdown",
   "id": "663f2bda",
   "metadata": {},
   "source": [
    "# Assignment 2:  Accessing Series Data\n",
    "\n",
    "* Set the date series, which has been created below, to be the index of the oil price series created in assignment 1.\n",
    "\n",
    "\n",
    "* Then, take the mean of the first 10 and last 10 prices of the series.\n",
    "\n",
    "\n",
    "* Finally, grab all oil prices from January 1st, 2017 - January 7th, 2017 (inclusive) and set the index to the default integer index."
   ]
  },
  {
   "cell_type": "code",
   "execution_count": 9,
   "id": "cad8001a",
   "metadata": {},
   "outputs": [],
   "source": [
    "dates = pd.Series(oil[\"date\"]).iloc[1000:1100]"
   ]
  },
  {
   "cell_type": "code",
   "execution_count": 10,
   "id": "49b55b99",
   "metadata": {},
   "outputs": [
    {
     "data": {
      "text/plain": [
       "date\n",
       "2016-12-20    52.22\n",
       "2016-12-21    51.44\n",
       "2016-12-22    51.98\n",
       "2016-12-23    52.01\n",
       "2016-12-27    52.82\n",
       "              ...  \n",
       "2017-05-09    45.84\n",
       "2017-05-10    47.28\n",
       "2017-05-11    47.81\n",
       "2017-05-12    47.83\n",
       "2017-05-15    48.86\n",
       "Name: oil_prices, Length: 100, dtype: float64"
      ]
     },
     "execution_count": 10,
     "metadata": {},
     "output_type": "execute_result"
    }
   ],
   "source": [
    "oil_series.index = dates\n",
    "\n",
    "oil_series"
   ]
  },
  {
   "cell_type": "code",
   "execution_count": 11,
   "id": "801aae04",
   "metadata": {},
   "outputs": [
    {
     "data": {
      "text/plain": [
       "date\n",
       "2016-12-20    52.22\n",
       "2016-12-21    51.44\n",
       "2016-12-22    51.98\n",
       "2016-12-23    52.01\n",
       "2016-12-27    52.82\n",
       "2016-12-28    54.01\n",
       "2016-12-29    53.80\n",
       "2016-12-30    53.75\n",
       "2017-01-03    52.36\n",
       "2017-01-04    53.26\n",
       "Name: oil_prices, dtype: float64"
      ]
     },
     "execution_count": 11,
     "metadata": {},
     "output_type": "execute_result"
    }
   ],
   "source": [
    "oil_series.iloc[:10]"
   ]
  },
  {
   "cell_type": "code",
   "execution_count": 12,
   "id": "44aa48a6",
   "metadata": {},
   "outputs": [
    {
     "data": {
      "text/plain": [
       "52.765"
      ]
     },
     "execution_count": 12,
     "metadata": {},
     "output_type": "execute_result"
    }
   ],
   "source": [
    "# Mean of first 10 prices \n",
    "\n",
    "oil_series.iloc[:10].mean()"
   ]
  },
  {
   "cell_type": "code",
   "execution_count": 13,
   "id": "3f62e1ce",
   "metadata": {},
   "outputs": [
    {
     "data": {
      "text/plain": [
       "47.129999999999995"
      ]
     },
     "execution_count": 13,
     "metadata": {},
     "output_type": "execute_result"
    }
   ],
   "source": [
    "# Mean of last 10 prices\n",
    "\n",
    "oil_series.iloc[-10:].mean()"
   ]
  },
  {
   "cell_type": "code",
   "execution_count": 15,
   "id": "2485f044",
   "metadata": {},
   "outputs": [
    {
     "data": {
      "text/plain": [
       "0    52.36\n",
       "1    53.26\n",
       "2    53.77\n",
       "3    53.98\n",
       "Name: oil_prices, dtype: float64"
      ]
     },
     "execution_count": 15,
     "metadata": {},
     "output_type": "execute_result"
    }
   ],
   "source": [
    "# Slice labels using loc, reset index and drop dates to return series w/ integer index\n",
    "\n",
    "oil_series.loc[\"2017-01-01\":\"2017-01-07\"].reset_index(drop=True)"
   ]
  },
  {
   "cell_type": "markdown",
   "id": "deec0721",
   "metadata": {},
   "source": [
    "# Assignment 3: Sorting and Filtering Series\n",
    "\n",
    "* First, get the 10 lowest prices from the data. \n",
    "* Sort the 10 lowest prices by date, starting with the most recent and ending with the oldest price.\n",
    "\n",
    "* Finally, use the list of provided dates. Select only rows with these dates that had a price of less than 50 dollars per barrel."
   ]
  },
  {
   "cell_type": "code",
   "execution_count": 16,
   "id": "46126b3e",
   "metadata": {},
   "outputs": [],
   "source": [
    "# list of dates to be used to solve bullet 3\n",
    "\n",
    "dates = [\n",
    "    \"2016-12-22\",\n",
    "    \"2017-05-03\",\n",
    "    \"2017-01-06\",\n",
    "    \"2017-03-05\",\n",
    "    \"2017-02-12\",\n",
    "    \"2017-03-21\",\n",
    "    \"2017-04-14\",\n",
    "    \"2017-04-15\",\n",
    "]"
   ]
  },
  {
   "cell_type": "code",
   "execution_count": 17,
   "id": "2eecaa97",
   "metadata": {
    "scrolled": false
   },
   "outputs": [
    {
     "data": {
      "text/plain": [
       "date\n",
       "2017-05-10    47.28\n",
       "2017-05-09    45.84\n",
       "2017-05-08    46.46\n",
       "2017-05-05    46.23\n",
       "2017-05-04    45.55\n",
       "2017-03-27    47.02\n",
       "2017-03-23    47.00\n",
       "2017-03-22    47.29\n",
       "2017-03-21    47.02\n",
       "2017-03-14    47.24\n",
       "Name: oil_prices, dtype: float64"
      ]
     },
     "execution_count": 17,
     "metadata": {},
     "output_type": "execute_result"
    }
   ],
   "source": [
    "# Get 10 lowest prices by grabbing first 10 rows of sorted price series\n",
    "# Then, sort by index in descending order\n",
    "\n",
    "oil_series.sort_values().iloc[:10].sort_index(ascending=False)"
   ]
  },
  {
   "cell_type": "code",
   "execution_count": 18,
   "id": "4864ae20",
   "metadata": {},
   "outputs": [
    {
     "data": {
      "text/plain": [
       "date\n",
       "2017-03-21    47.02\n",
       "2017-05-03    47.79\n",
       "Name: oil_prices, dtype: float64"
      ]
     },
     "execution_count": 18,
     "metadata": {},
     "output_type": "execute_result"
    }
   ],
   "source": [
    "# Create mask to filter to only dates in list of dates and oil price <= 50\n",
    "\n",
    "mask = oil_series.index.isin(dates) & (oil_series <= 50)\n",
    "\n",
    "oil_series.loc[mask]"
   ]
  },
  {
   "cell_type": "markdown",
   "id": "ce362e59",
   "metadata": {},
   "source": [
    "\n",
    "# Assignment 4: Series Operations\n",
    "\n",
    "* Increase the prices in the oil series by 10%, and add an additional 2 dollars per barrel on top of that.\n",
    "\n",
    "* Then, create a series that represents the difference between each price and max price.\n",
    "\n",
    "* Finally, extract the month from the string dates in the index and store them as an integer in their own series."
   ]
  },
  {
   "cell_type": "code",
   "execution_count": 19,
   "id": "38305859",
   "metadata": {},
   "outputs": [
    {
     "data": {
      "text/plain": [
       "date\n",
       "2016-12-20    59.442\n",
       "2016-12-21    58.584\n",
       "2016-12-22    59.178\n",
       "2016-12-23    59.211\n",
       "2016-12-27    60.102\n",
       "               ...  \n",
       "2017-05-09    52.424\n",
       "2017-05-10    54.008\n",
       "2017-05-11    54.591\n",
       "2017-05-12    54.613\n",
       "2017-05-15    55.746\n",
       "Name: oil_prices, Length: 100, dtype: float64"
      ]
     },
     "execution_count": 19,
     "metadata": {},
     "output_type": "execute_result"
    }
   ],
   "source": [
    "# Multiple oil series values by 1.1 (10% increase), then add 2 to each row\n",
    "\n",
    "# with Pandas methods\n",
    "oil_series.mul(1.1).add(2)\n",
    "\n",
    "# with Python operators\n",
    "oil_series * 1.1 + 2"
   ]
  },
  {
   "cell_type": "code",
   "execution_count": 20,
   "id": "0f92574f",
   "metadata": {},
   "outputs": [
    {
     "data": {
      "text/plain": [
       "54.48"
      ]
     },
     "execution_count": 20,
     "metadata": {},
     "output_type": "execute_result"
    }
   ],
   "source": [
    "# Get max price, store in variable\n",
    "\n",
    "max_price = oil_series.max()\n",
    "\n",
    "max_price"
   ]
  },
  {
   "cell_type": "code",
   "execution_count": 21,
   "id": "98b673c0",
   "metadata": {},
   "outputs": [
    {
     "data": {
      "text/plain": [
       "date\n",
       "2016-12-20   -0.041483\n",
       "2016-12-21   -0.055800\n",
       "2016-12-22   -0.045888\n",
       "2016-12-23   -0.045338\n",
       "2016-12-27   -0.030470\n",
       "                ...   \n",
       "2017-05-09   -0.158590\n",
       "2017-05-10   -0.132159\n",
       "2017-05-11   -0.122430\n",
       "2017-05-12   -0.122063\n",
       "2017-05-15   -0.103157\n",
       "Name: oil_prices, Length: 100, dtype: float64"
      ]
     },
     "execution_count": 21,
     "metadata": {},
     "output_type": "execute_result"
    }
   ],
   "source": [
    "# Subtract max price from all rows in oil_series (returns a Series)\n",
    "(oil_series - max_price) / max_price"
   ]
  },
  {
   "cell_type": "code",
   "execution_count": 22,
   "id": "0cbd5306",
   "metadata": {},
   "outputs": [],
   "source": [
    "# Create a series from the index of oil_series\n",
    "string_dates = pd.Series(oil_series.index)"
   ]
  },
  {
   "cell_type": "code",
   "execution_count": 23,
   "id": "0836c719",
   "metadata": {},
   "outputs": [
    {
     "data": {
      "text/plain": [
       "0     12\n",
       "1     12\n",
       "2     12\n",
       "3     12\n",
       "4     12\n",
       "      ..\n",
       "95     5\n",
       "96     5\n",
       "97     5\n",
       "98     5\n",
       "99     5\n",
       "Name: date, Length: 100, dtype: int64"
      ]
     },
     "execution_count": 23,
     "metadata": {},
     "output_type": "execute_result"
    }
   ],
   "source": [
    "# Slice out month portion of text string and convert to int\n",
    "string_dates.str[5:7].astype(\"int\")"
   ]
  },
  {
   "cell_type": "code",
   "execution_count": 24,
   "id": "fb8eac50",
   "metadata": {},
   "outputs": [
    {
     "data": {
      "text/plain": [
       "0     12\n",
       "1     12\n",
       "2     12\n",
       "3     12\n",
       "4     12\n",
       "      ..\n",
       "95     5\n",
       "96     5\n",
       "97     5\n",
       "98     5\n",
       "99     5\n",
       "Name: date, Length: 100, dtype: int64"
      ]
     },
     "execution_count": 24,
     "metadata": {},
     "output_type": "execute_result"
    }
   ],
   "source": [
    "# single line\n",
    "pd.Series(oil_series.index).str[5:7].astype(\"int\")"
   ]
  },
  {
   "cell_type": "markdown",
   "id": "4735ed48",
   "metadata": {},
   "source": [
    "# Assignment 5: Series Aggregations\n",
    "\n",
    "* Calculate the sum and mean of prices in the month of March. \n",
    "\n",
    "* Next, calculate how many prices were recorded in January and February.\n",
    "\n",
    "* Then, calculate the 10th and 90th percentiles across all data.\n",
    "\n",
    "* Finally, how often did integer dollar value (e.g. 51, 52) occur in the data? Normalize this to a percentage.   "
   ]
  },
  {
   "cell_type": "code",
   "execution_count": 26,
   "id": "b7846132",
   "metadata": {},
   "outputs": [
    {
     "data": {
      "text/plain": [
       "1134.54"
      ]
     },
     "execution_count": 26,
     "metadata": {},
     "output_type": "execute_result"
    }
   ],
   "source": [
    "# Filter series to March (month 3), calculate sum of prices, and round\n",
    "\n",
    "oil_series[oil_series.index.str[6:7] == \"3\"].sum().round(2)"
   ]
  },
  {
   "cell_type": "code",
   "execution_count": 27,
   "id": "2d0ea594",
   "metadata": {},
   "outputs": [
    {
     "data": {
      "text/plain": [
       "49.32782608695651"
      ]
     },
     "execution_count": 27,
     "metadata": {},
     "output_type": "execute_result"
    }
   ],
   "source": [
    "# Filter series to march, calculate mean\n",
    "\n",
    "oil_series[oil_series.index.str[6:7] == \"3\"].mean()"
   ]
  },
  {
   "cell_type": "code",
   "execution_count": 28,
   "id": "d220d35d",
   "metadata": {},
   "outputs": [
    {
     "data": {
      "text/plain": [
       "47"
      ]
     },
     "execution_count": 28,
     "metadata": {},
     "output_type": "execute_result"
    }
   ],
   "source": [
    "# Filter series to Jan and Feb, count entries\n",
    "\n",
    "oil_series[oil_series.index.str[6:7].isin([\"1\", \"2\"])].count()"
   ]
  },
  {
   "cell_type": "code",
   "execution_count": 29,
   "id": "a5082d8f",
   "metadata": {},
   "outputs": [
    {
     "data": {
      "text/plain": [
       "0.1    47.299\n",
       "0.9    53.811\n",
       "Name: oil_prices, dtype: float64"
      ]
     },
     "execution_count": 29,
     "metadata": {},
     "output_type": "execute_result"
    }
   ],
   "source": [
    "# Calculate 10th and 90th percentiles of oil series using quantile\n",
    "\n",
    "oil_series.quantile([0.1, 0.9])"
   ]
  },
  {
   "cell_type": "code",
   "execution_count": 32,
   "id": "fdbd3f03",
   "metadata": {},
   "outputs": [
    {
     "data": {
      "text/plain": [
       "53    0.26\n",
       "52    0.22\n",
       "47    0.13\n",
       "48    0.10\n",
       "51    0.07\n",
       "50    0.07\n",
       "49    0.06\n",
       "54    0.05\n",
       "45    0.02\n",
       "46    0.02\n",
       "Name: oil_prices, dtype: float64"
      ]
     },
     "execution_count": 32,
     "metadata": {},
     "output_type": "execute_result"
    }
   ],
   "source": [
    "# Return normalized value counts to get percentage of time each integer dollar value occurred\n",
    "\n",
    "oil_series.astype(\"int\").value_counts(normalize=True)"
   ]
  },
  {
   "cell_type": "markdown",
   "id": "b81e8ab9",
   "metadata": {},
   "source": [
    "# Assignment 6: Missing Data\n",
    "\n",
    "There were some erroneous prices in our data, so they were filled in with missing values.\n",
    "\n",
    "Can you confirm the number of missing values in the price column? \n",
    "\n",
    "Once you’ve done that, fill the prices in with the median of the oil price series.\n"
   ]
  },
  {
   "cell_type": "code",
   "execution_count": 34,
   "id": "6d5fdec5",
   "metadata": {
    "scrolled": true
   },
   "outputs": [],
   "source": [
    "# Fill in two values with missing data\n",
    "oil_series = oil_series.where(~oil_series.isin([51.44, 47.83]), pd.NA)"
   ]
  },
  {
   "cell_type": "code",
   "execution_count": 36,
   "id": "4c9fc3a5",
   "metadata": {},
   "outputs": [
    {
     "data": {
      "text/plain": [
       "2"
      ]
     },
     "execution_count": 36,
     "metadata": {},
     "output_type": "execute_result"
    }
   ],
   "source": [
    "# Sum/count missing values\n",
    "\n",
    "oil_series.isna().sum()"
   ]
  },
  {
   "cell_type": "code",
   "execution_count": 37,
   "id": "1ec16104",
   "metadata": {
    "scrolled": true
   },
   "outputs": [
    {
     "data": {
      "text/plain": [
       "date\n",
       "2016-12-20    52.220\n",
       "2016-12-21    52.205\n",
       "2016-12-22    51.980\n",
       "2016-12-23    52.010\n",
       "2016-12-27    52.820\n",
       "               ...  \n",
       "2017-05-09    45.840\n",
       "2017-05-10    47.280\n",
       "2017-05-11    47.810\n",
       "2017-05-12    52.205\n",
       "2017-05-15    48.860\n",
       "Name: oil_prices, Length: 100, dtype: float64"
      ]
     },
     "execution_count": 37,
     "metadata": {},
     "output_type": "execute_result"
    }
   ],
   "source": [
    "# Fill in missing values with median\n",
    "\n",
    "oil_series.fillna(oil_series.median())"
   ]
  },
  {
   "cell_type": "markdown",
   "id": "19a0e70c",
   "metadata": {},
   "source": [
    "# Exercise 7: Apply and Where\n",
    "\n",
    "Write a function that outputs ‘buy’ if price is less than the 90th percentile and ‘wait’ if it’s not. Apply it to the oil series.\n",
    "\n",
    "Then, create a series that multiplies price by .9 if the date is ‘2016-12-23’ or ‘2017-05-10’, and 1.1 for all other dates. "
   ]
  },
  {
   "cell_type": "code",
   "execution_count": 38,
   "id": "e508687c",
   "metadata": {},
   "outputs": [],
   "source": [
    "# Define a function that returns 'Buy' if price below limit, 'Wait' if not.\n",
    "\n",
    "def buy_bool(price, limit):\n",
    "    if price < limit:\n",
    "        return \"Buy\"\n",
    "    return \"Wait\""
   ]
  },
  {
   "cell_type": "code",
   "execution_count": 43,
   "id": "3496ec24",
   "metadata": {},
   "outputs": [
    {
     "data": {
      "text/plain": [
       "date\n",
       "2016-12-20     Buy\n",
       "2016-12-21    Wait\n",
       "2016-12-22     Buy\n",
       "2016-12-23     Buy\n",
       "2016-12-27     Buy\n",
       "              ... \n",
       "2017-05-09     Buy\n",
       "2017-05-10     Buy\n",
       "2017-05-11     Buy\n",
       "2017-05-12    Wait\n",
       "2017-05-15     Buy\n",
       "Name: oil_prices, Length: 100, dtype: object"
      ]
     },
     "execution_count": 43,
     "metadata": {},
     "output_type": "execute_result"
    }
   ],
   "source": [
    "# Apply function to OIl Series, args = to specify arguments - make sure to pass a list or tuple to args\n",
    "\n",
    "oil_series.apply(buy_bool, args=(oil_series.quantile(0.9),))"
   ]
  },
  {
   "cell_type": "code",
   "execution_count": 44,
   "id": "feab5b7d",
   "metadata": {},
   "outputs": [
    {
     "data": {
      "text/plain": [
       "date\n",
       "2016-12-20     Buy\n",
       "2016-12-21    Wait\n",
       "2016-12-22     Buy\n",
       "2016-12-23     Buy\n",
       "2016-12-27     Buy\n",
       "              ... \n",
       "2017-05-09     Buy\n",
       "2017-05-10     Buy\n",
       "2017-05-11     Buy\n",
       "2017-05-12    Wait\n",
       "2017-05-15     Buy\n",
       "Name: oil_prices, Length: 100, dtype: object"
      ]
     },
     "execution_count": 44,
     "metadata": {},
     "output_type": "execute_result"
    }
   ],
   "source": [
    "# Lambda function version of Wait/Buy\n",
    "\n",
    "oil_series.apply(lambda x: \"Buy\" if x < oil_series.quantile(0.9) else \"Wait\")"
   ]
  },
  {
   "cell_type": "code",
   "execution_count": 45,
   "id": "6e9ec561",
   "metadata": {},
   "outputs": [
    {
     "data": {
      "text/plain": [
       "date\n",
       "2016-12-20    57.442\n",
       "2016-12-21       NaN\n",
       "2016-12-22    57.178\n",
       "2016-12-23    46.809\n",
       "2016-12-27    58.102\n",
       "               ...  \n",
       "2017-05-09    50.424\n",
       "2017-05-10    42.552\n",
       "2017-05-11    52.591\n",
       "2017-05-12       NaN\n",
       "2017-05-15    53.746\n",
       "Name: oil_prices, Length: 100, dtype: float64"
      ]
     },
     "execution_count": 45,
     "metadata": {},
     "output_type": "execute_result"
    }
   ],
   "source": [
    "# Chain Pandas where to specify complementary logic.\n",
    "# First where - if test returns FALSE (not one of these dates), multiply by 1.1\n",
    "# Second where - if inverted test returns FALSE (is one of these dates) multiply by .9\n",
    "\n",
    "(oil_series\n",
    " .where(oil_series.index.isin([\"2016-12-23\", \"2017-05-10\"]), oil_series * 1.1)\n",
    " .where(~oil_series.index.isin([\"2016-12-23\", \"2017-05-10\"]), oil_series * .9)\n",
    ")"
   ]
  },
  {
   "cell_type": "code",
   "execution_count": 47,
   "id": "c7e25328",
   "metadata": {},
   "outputs": [
    {
     "data": {
      "text/plain": [
       "0     57.442\n",
       "1        NaN\n",
       "2     57.178\n",
       "3     46.809\n",
       "4     58.102\n",
       "       ...  \n",
       "95    50.424\n",
       "96    42.552\n",
       "97    52.591\n",
       "98       NaN\n",
       "99    53.746\n",
       "Length: 100, dtype: float64"
      ]
     },
     "execution_count": 47,
     "metadata": {},
     "output_type": "execute_result"
    }
   ],
   "source": [
    "# Use NumPy where to modify price based on dates.\n",
    "# if price in list, multiply by .9\n",
    "# if price not in list, multiply by 1.1\n",
    "# Convert NumPy array returned by np.where to Series\n",
    "import numpy as np\n",
    "\n",
    "pd.Series(\n",
    "    np.where(\n",
    "        oil_series.index.isin([\"2016-12-23\", \"2017-05-10\"]),\n",
    "        oil_series * 0.9,\n",
    "        oil_series * 1.1,\n",
    "    )\n",
    ")"
   ]
  }
 ],
 "metadata": {
  "kernelspec": {
   "display_name": "Python 3 (ipykernel)",
   "language": "python",
   "name": "python3"
  },
  "language_info": {
   "codemirror_mode": {
    "name": "ipython",
    "version": 3
   },
   "file_extension": ".py",
   "mimetype": "text/x-python",
   "name": "python",
   "nbconvert_exporter": "python",
   "pygments_lexer": "ipython3",
   "version": "3.9.7"
  }
 },
 "nbformat": 4,
 "nbformat_minor": 5
}
