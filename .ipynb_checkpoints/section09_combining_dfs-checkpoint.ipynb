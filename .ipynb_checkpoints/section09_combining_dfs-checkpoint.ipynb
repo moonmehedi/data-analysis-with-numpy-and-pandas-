{
 "cells": [
  {
   "cell_type": "code",
   "execution_count": null,
   "id": "c4acf141",
   "metadata": {},
   "outputs": [],
   "source": [
    "import pandas as pd"
   ]
  },
  {
   "cell_type": "markdown",
   "id": "6ef47ce2",
   "metadata": {},
   "source": [
    "# Assignment 1: pd.Concat\n",
    "\n",
    "Combine the 2014 and 2015 data you wrote out in the last section into a single dataframe. \n",
    "\n",
    "Then delete the transactions DataFrame (there is a handy base Python keyword for this)."
   ]
  },
  {
   "cell_type": "code",
   "execution_count": null,
   "id": "0ca22035",
   "metadata": {},
   "outputs": [],
   "source": [
    "# Code to read in transactions data if you need to re-create CSV/Excel files from section 8 \n",
    "# NOTE: You won't have the extra columns we created but it won't matter for this assignment\n",
    "\n",
    "# transactions = pd.read_csv(\"../retail/transactions.csv\", parse_dates=[\"date\"])\n",
    "\n",
    "# Excel\n",
    "\n",
    "# with pd.ExcelWriter(\"DataForChandler.xlsx\") as writer:\n",
    "#     for year in range(2013, 2018):\n",
    "#         transactions.loc[transactions[\"date\"].dt.year == year].to_excel(\n",
    "#             writer, sheet_name=str(year)\n",
    "#         )\n",
    "        \n",
    "# CSV  \n",
    "\n",
    "# for year in range(2013, 2018):\n",
    "#     transactions.loc[transactions[\"date\"].dt.year == year].to_csv(\n",
    "#         f\"transactions_{year}.csv\"\n",
    "#     )"
   ]
  },
  {
   "cell_type": "code",
   "execution_count": null,
   "id": "491f5d49",
   "metadata": {},
   "outputs": [],
   "source": []
  },
  {
   "cell_type": "code",
   "execution_count": null,
   "id": "f97b9719",
   "metadata": {},
   "outputs": [],
   "source": []
  },
  {
   "cell_type": "code",
   "execution_count": null,
   "id": "09193e77",
   "metadata": {},
   "outputs": [],
   "source": []
  },
  {
   "cell_type": "code",
   "execution_count": null,
   "id": "406c111f",
   "metadata": {},
   "outputs": [],
   "source": []
  },
  {
   "cell_type": "code",
   "execution_count": null,
   "id": "917b0035",
   "metadata": {},
   "outputs": [],
   "source": []
  },
  {
   "cell_type": "markdown",
   "id": "8f0320d0",
   "metadata": {},
   "source": [
    "# Assignment 2: Joins\n",
    "\n",
    "Can you join retail.csv with stores.csv? You'll need to read both files in.\n",
    "\n",
    "Once you have that, plot:\n",
    "* Total sales by city, \n",
    "* The sum of sales by “type” over time,\n",
    "* A stacked bar chart with average daily sales by type by month, with “type” as the “stacks”. \n"
   ]
  },
  {
   "cell_type": "code",
   "execution_count": null,
   "id": "47f155f8",
   "metadata": {},
   "outputs": [],
   "source": []
  },
  {
   "cell_type": "code",
   "execution_count": null,
   "id": "00974b51",
   "metadata": {},
   "outputs": [],
   "source": []
  },
  {
   "cell_type": "code",
   "execution_count": null,
   "id": "00b662a4",
   "metadata": {},
   "outputs": [],
   "source": []
  },
  {
   "cell_type": "code",
   "execution_count": null,
   "id": "f030c5bc",
   "metadata": {},
   "outputs": [],
   "source": []
  },
  {
   "cell_type": "code",
   "execution_count": null,
   "id": "5906dd36",
   "metadata": {},
   "outputs": [],
   "source": []
  },
  {
   "cell_type": "code",
   "execution_count": null,
   "id": "14d8d2b7",
   "metadata": {},
   "outputs": [],
   "source": []
  }
 ],
 "metadata": {
  "kernelspec": {
   "display_name": "Python 3 (ipykernel)",
   "language": "python",
   "name": "python3"
  },
  "language_info": {
   "codemirror_mode": {
    "name": "ipython",
    "version": 3
   },
   "file_extension": ".py",
   "mimetype": "text/x-python",
   "name": "python",
   "nbconvert_exporter": "python",
   "pygments_lexer": "ipython3",
   "version": "3.9.7"
  }
 },
 "nbformat": 4,
 "nbformat_minor": 5
}
