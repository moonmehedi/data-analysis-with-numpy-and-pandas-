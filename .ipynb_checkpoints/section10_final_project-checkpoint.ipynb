{
 "cells": [
  {
   "cell_type": "markdown",
   "id": "a279c454",
   "metadata": {},
   "source": [
    "# Final Project\n",
    "\n",
    "Ok, so today we'll be working with the transactions, product, and hh_demographic tables in the project_data folder.\n",
    "\n",
    "* First, read in the transactions data.\n",
    "\n",
    "* Read in the only columns `household_key`, `basket_id`, `STORE_ID`, `DAY`, `QUANTITY`, and `SALES_VALUE`.\n",
    "\n",
    "* Convert `DAY`, `QUANTITY`, and `STORE_ID` to the smallest appropriate integer types.\n"
   ]
  },
  {
   "cell_type": "code",
   "execution_count": null,
   "id": "e57f5a81",
   "metadata": {},
   "outputs": [],
   "source": [
    "import pandas as pd\n",
    "import numpy as np"
   ]
  },
  {
   "cell_type": "code",
   "execution_count": null,
   "id": "c6fa5da7",
   "metadata": {},
   "outputs": [],
   "source": []
  },
  {
   "cell_type": "code",
   "execution_count": null,
   "id": "20d7e7ad",
   "metadata": {},
   "outputs": [],
   "source": []
  },
  {
   "cell_type": "code",
   "execution_count": null,
   "id": "6f0f87d1",
   "metadata": {},
   "outputs": [],
   "source": []
  },
  {
   "cell_type": "code",
   "execution_count": null,
   "id": "8c90a284",
   "metadata": {},
   "outputs": [],
   "source": [
    "# Use the following snippet to create a Date Column.\n",
    "\n",
    "transactions = (\n",
    "    transactions\n",
    "    .assign(date = (pd.to_datetime(\"2016\", format='%Y') \n",
    "            + pd.to_timedelta(transactions[\"DAY\"].sub(1).astype(str) + \" days\"))\n",
    "           )\n",
    "    .drop([\"DAY\"], axis=1)\n",
    ")"
   ]
  },
  {
   "cell_type": "markdown",
   "id": "64d2e67d",
   "metadata": {},
   "source": [
    "## TIME BASED ANALYSIS\n",
    "\n",
    "* Plot the sum of sales by month. Are sales growing over time?\n",
    "* Next, plot the same series after filtering down to dates April 2016 and October 2017.\n",
    "* Then, plot the sum of monthly sales in 2016 vs the monthly sales 2017.\n",
    "* Finally, plot total sales by day of week."
   ]
  },
  {
   "cell_type": "code",
   "execution_count": null,
   "id": "8a68946a",
   "metadata": {},
   "outputs": [],
   "source": []
  },
  {
   "cell_type": "code",
   "execution_count": null,
   "id": "d4253d37",
   "metadata": {},
   "outputs": [],
   "source": []
  },
  {
   "cell_type": "code",
   "execution_count": null,
   "id": "5ddf6a6a",
   "metadata": {
    "scrolled": true
   },
   "outputs": [],
   "source": []
  },
  {
   "cell_type": "code",
   "execution_count": null,
   "id": "cdfe4610",
   "metadata": {},
   "outputs": [],
   "source": []
  },
  {
   "cell_type": "markdown",
   "id": "59494494",
   "metadata": {},
   "source": [
    "# DEMOGRAPHICS\n",
    "\n",
    "* Read in the `hh_demographic.csv` file, but only the columns `AGE_DESC`, `INCOME_DESC`, `household_key`, and `HH_COMP_DESC`. Convert the appropriate columns to the category dtype.\n",
    "\n",
    "\n",
    "* Then group the transactions table by household_id, and calculate the sum of SALES VALUE by household.\n",
    "\n",
    "\n",
    "* Once you've done that, join the demographics DataFrame to the aggregated transactions table. Since we're interested in analyzing the demographic data we have, make sure not to include rows from transactions that don't match.\n",
    "\n",
    "\n",
    "* Plot the sum of sales by age_desc and income_desc (in separate charts).\n",
    "\n",
    "\n",
    "* Then, create a pivot table of the mean household sales by `AGE_DESC` and `HH_COMP_DESC`. Which of our demographics have the highest average sales?\n"
   ]
  },
  {
   "cell_type": "code",
   "execution_count": null,
   "id": "b03da735",
   "metadata": {},
   "outputs": [],
   "source": []
  },
  {
   "cell_type": "code",
   "execution_count": null,
   "id": "7635afb0",
   "metadata": {
    "scrolled": true
   },
   "outputs": [],
   "source": []
  },
  {
   "cell_type": "code",
   "execution_count": null,
   "id": "9f1a2ee8",
   "metadata": {},
   "outputs": [],
   "source": []
  },
  {
   "cell_type": "code",
   "execution_count": null,
   "id": "ef63184f",
   "metadata": {},
   "outputs": [],
   "source": []
  },
  {
   "cell_type": "code",
   "execution_count": null,
   "id": "5a5d42c1",
   "metadata": {},
   "outputs": [],
   "source": []
  },
  {
   "cell_type": "code",
   "execution_count": null,
   "id": "ccd5bfe5",
   "metadata": {},
   "outputs": [],
   "source": []
  },
  {
   "cell_type": "code",
   "execution_count": null,
   "id": "ec18a861",
   "metadata": {},
   "outputs": [],
   "source": []
  },
  {
   "cell_type": "code",
   "execution_count": null,
   "id": "a847e93e",
   "metadata": {},
   "outputs": [],
   "source": []
  },
  {
   "cell_type": "code",
   "execution_count": null,
   "id": "196e806b",
   "metadata": {},
   "outputs": [],
   "source": []
  },
  {
   "cell_type": "code",
   "execution_count": null,
   "id": "8b3545c2",
   "metadata": {},
   "outputs": [],
   "source": []
  },
  {
   "cell_type": "code",
   "execution_count": null,
   "id": "2edc7c14",
   "metadata": {},
   "outputs": [],
   "source": []
  },
  {
   "cell_type": "markdown",
   "id": "5081f94d",
   "metadata": {},
   "source": [
    "# PRODUCT DEMOGRAPHICS\n",
    "\n",
    "* Read in the product csv file.\n",
    "\n",
    "* Only read in product_id and department from product (consider converting columns).\n",
    "\n",
    "* Join the product DataFrame to transactions and demographics tables, performing an inner join when joining both tables.\n",
    "\n",
    "* Finally, pivot the fully joined dataframe by AGE_DESC and DEPARTMENT, calculating the sum of sales. Which category does our youngest demographic perform well in?\n",
    "\n"
   ]
  },
  {
   "cell_type": "code",
   "execution_count": null,
   "id": "def3a4b1",
   "metadata": {},
   "outputs": [],
   "source": []
  },
  {
   "cell_type": "code",
   "execution_count": null,
   "id": "a498c9ab",
   "metadata": {},
   "outputs": [],
   "source": []
  },
  {
   "cell_type": "code",
   "execution_count": null,
   "id": "a314ac71",
   "metadata": {},
   "outputs": [],
   "source": []
  },
  {
   "cell_type": "code",
   "execution_count": null,
   "id": "65e3618f",
   "metadata": {},
   "outputs": [],
   "source": []
  },
  {
   "cell_type": "code",
   "execution_count": null,
   "id": "ed86759d",
   "metadata": {},
   "outputs": [],
   "source": []
  },
  {
   "cell_type": "markdown",
   "id": "c761f6ed",
   "metadata": {},
   "source": [
    "# EXPORT\n",
    "\n",
    "Finally, export your pivot table to an excel file. Make sure to provide a sheet name."
   ]
  },
  {
   "cell_type": "code",
   "execution_count": null,
   "id": "abfe3a77",
   "metadata": {},
   "outputs": [],
   "source": []
  }
 ],
 "metadata": {
  "kernelspec": {
   "display_name": "Python 3 (ipykernel)",
   "language": "python",
   "name": "python3"
  },
  "language_info": {
   "codemirror_mode": {
    "name": "ipython",
    "version": 3
   },
   "file_extension": ".py",
   "mimetype": "text/x-python",
   "name": "python",
   "nbconvert_exporter": "python",
   "pygments_lexer": "ipython3",
   "version": "3.9.7"
  }
 },
 "nbformat": 4,
 "nbformat_minor": 5
}
