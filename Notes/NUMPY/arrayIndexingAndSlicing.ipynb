{
 "cells": [
  {
   "cell_type": "markdown",
   "metadata": {},
   "source": [
    "indexing and slicing for 1d array\n"
   ]
  },
  {
   "cell_type": "code",
   "execution_count": 17,
   "metadata": {},
   "outputs": [],
   "source": [
    "import numpy as np"
   ]
  },
  {
   "cell_type": "code",
   "execution_count": 18,
   "metadata": {},
   "outputs": [],
   "source": [
    "product = ['Fruits', 'vegetables', 'cereal', 'dairy',\n",
    "           'beverages', 'snacks', 'eggs', 'coffee', 'tea', 'spices']\n",
    "\n",
    "products = np.array(product)"
   ]
  },
  {
   "cell_type": "code",
   "execution_count": 19,
   "metadata": {},
   "outputs": [
    {
     "name": "stdout",
     "output_type": "stream",
     "text": [
      "spices\n",
      "tea\n",
      "Fruits\n"
     ]
    }
   ],
   "source": [
    "print(products[-1])\n",
    "print(products[-2])\n",
    "print(products[-10])\n",
    "# print(products[-11]) Will produce any role"
   ]
  },
  {
   "cell_type": "markdown",
   "metadata": {},
   "source": [
    "slicing 1d array\n"
   ]
  },
  {
   "cell_type": "code",
   "execution_count": 20,
   "metadata": {},
   "outputs": [
    {
     "data": {
      "text/plain": [
       "array(['dairy', 'beverages', 'snacks', 'eggs', 'coffee'], dtype='<U10')"
      ]
     },
     "execution_count": 20,
     "metadata": {},
     "output_type": "execute_result"
    }
   ],
   "source": [
    "# Her last index is excluded minus two means the second last element but it will not include it\n",
    "products[3:-2]"
   ]
  },
  {
   "cell_type": "code",
   "execution_count": 21,
   "metadata": {},
   "outputs": [
    {
     "data": {
      "text/plain": [
       "array(['vegetables', 'dairy', 'snacks', 'coffee'], dtype='<U10')"
      ]
     },
     "execution_count": 21,
     "metadata": {},
     "output_type": "execute_result"
    }
   ],
   "source": [
    "products[1:-1:2]  # From the second element to the element before the last will be included in this array but there will be a difference of one elements after adding one element so we will add one leave one"
   ]
  },
  {
   "cell_type": "code",
   "execution_count": 33,
   "metadata": {},
   "outputs": [
    {
     "data": {
      "text/plain": [
       "array([['Fruits', 'vegetables', 'cereal', 'dairy', 'beverages'],\n",
       "       ['snacks', 'eggs', 'coffee', 'tea', 'spices']], dtype='<U10')"
      ]
     },
     "execution_count": 33,
     "metadata": {},
     "output_type": "execute_result"
    }
   ],
   "source": [
    "products = products.reshape(2, 5)\n",
    "products"
   ]
  },
  {
   "cell_type": "code",
   "execution_count": 41,
   "metadata": {},
   "outputs": [
    {
     "data": {
      "text/plain": [
       "array(['coffee', 'tea', 'spices'], dtype='<U10')"
      ]
     },
     "execution_count": 41,
     "metadata": {},
     "output_type": "execute_result"
    }
   ],
   "source": [
    "products[1, 2:]"
   ]
  }
 ],
 "metadata": {
  "kernelspec": {
   "display_name": "base",
   "language": "python",
   "name": "python3"
  },
  "language_info": {
   "codemirror_mode": {
    "name": "ipython",
    "version": 3
   },
   "file_extension": ".py",
   "mimetype": "text/x-python",
   "name": "python",
   "nbconvert_exporter": "python",
   "pygments_lexer": "ipython3",
   "version": "3.11.4"
  }
 },
 "nbformat": 4,
 "nbformat_minor": 2
}
