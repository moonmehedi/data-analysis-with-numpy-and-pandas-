{
 "cells": [
  {
   "cell_type": "markdown",
   "metadata": {},
   "source": [
    "pandas series basic\n"
   ]
  },
  {
   "cell_type": "code",
   "execution_count": 50,
   "metadata": {},
   "outputs": [
    {
     "data": {
      "text/plain": [
       "array([5, 6, 7, 8, 9])"
      ]
     },
     "execution_count": 50,
     "metadata": {},
     "output_type": "execute_result"
    }
   ],
   "source": [
    "import numpy as np\n",
    "import pandas as pd\n",
    "\n",
    "array = np.arange(5, 10)\n",
    "array"
   ]
  },
  {
   "cell_type": "code",
   "execution_count": 51,
   "metadata": {},
   "outputs": [],
   "source": [
    "# pandas array can only be 1 D\n",
    "\n",
    "# pd.Series(np.arange(6).reshape(3, 2))"
   ]
  },
  {
   "cell_type": "code",
   "execution_count": 52,
   "metadata": {},
   "outputs": [
    {
     "data": {
      "text/plain": [
       "0       0\n",
       "1       5\n",
       "2     155\n",
       "3       0\n",
       "4     518\n",
       "5       0\n",
       "6    1827\n",
       "7     616\n",
       "8     317\n",
       "9     325\n",
       "Name: sales, dtype: int32"
      ]
     },
     "execution_count": 52,
     "metadata": {},
     "output_type": "execute_result"
    }
   ],
   "source": [
    "# naming pandas arrays\n",
    "\n",
    "sales_series = pd.Series(\n",
    "    np.array([0, 5, 155, 0, 518, 0, 1827, 616, 317, 325]), name='sales')\n",
    "\n",
    "sales_series"
   ]
  },
  {
   "cell_type": "code",
   "execution_count": 53,
   "metadata": {},
   "outputs": [
    {
     "data": {
      "text/plain": [
       "array([   0,    5,  155,    0,  518,    0, 1827,  616,  317,  325])"
      ]
     },
     "execution_count": 53,
     "metadata": {},
     "output_type": "execute_result"
    }
   ],
   "source": [
    "sales_series.values"
   ]
  },
  {
   "cell_type": "code",
   "execution_count": 54,
   "metadata": {},
   "outputs": [
    {
     "data": {
      "text/plain": [
       "Index([3, 4, 5, 6, 7, 8, 14, 16, 67, 10], dtype='int64')"
      ]
     },
     "execution_count": 54,
     "metadata": {},
     "output_type": "execute_result"
    }
   ],
   "source": [
    "\n",
    "# i can do custom indexing\n",
    "\n",
    "sales_series.index = [3, 4, 5, 6, 7, 8, 14, 16, 67, 10]\n",
    "sales_series.index"
   ]
  },
  {
   "cell_type": "code",
   "execution_count": 55,
   "metadata": {},
   "outputs": [
    {
     "data": {
      "text/plain": [
       "'new sales'"
      ]
     },
     "execution_count": 55,
     "metadata": {},
     "output_type": "execute_result"
    }
   ],
   "source": [
    "# i can change name any time\n",
    "\n",
    "sales_series.name = 'new sales'\n",
    "sales_series.name"
   ]
  },
  {
   "cell_type": "code",
   "execution_count": 56,
   "metadata": {},
   "outputs": [
    {
     "name": "stdout",
     "output_type": "stream",
     "text": [
      "3763\n",
      "376.3\n",
      "557.759018055488\n",
      "236.0\n"
     ]
    }
   ],
   "source": [
    "# aggregation will be similar as like numpy arrays\n",
    "\n",
    "print(sales_series.sum())\n",
    "print(sales_series.mean())\n",
    "print(sales_series.std())\n",
    "print(sales_series.median())"
   ]
  },
  {
   "cell_type": "markdown",
   "metadata": {},
   "source": [
    "CONVERTING DATA TYPE USING ASTYPE FUNCTION()\n"
   ]
  },
  {
   "cell_type": "code",
   "execution_count": 57,
   "metadata": {},
   "outputs": [
    {
     "data": {
      "text/plain": [
       "<bound method NDFrame.astype of 3        0\n",
       "4        5\n",
       "5      155\n",
       "6        0\n",
       "7      518\n",
       "8        0\n",
       "14    1827\n",
       "16     616\n",
       "67     317\n",
       "10     325\n",
       "Name: new sales, dtype: int32>"
      ]
     },
     "execution_count": 57,
     "metadata": {},
     "output_type": "execute_result"
    }
   ],
   "source": [
    "# data in int\n",
    "sales_series.astype"
   ]
  },
  {
   "cell_type": "code",
   "execution_count": 58,
   "metadata": {},
   "outputs": [
    {
     "data": {
      "text/plain": [
       "3        0.0\n",
       "4        5.0\n",
       "5      155.0\n",
       "6        0.0\n",
       "7      518.0\n",
       "8        0.0\n",
       "14    1827.0\n",
       "16     616.0\n",
       "67     317.0\n",
       "10     325.0\n",
       "Name: new sales, dtype: float64"
      ]
     },
     "execution_count": 58,
     "metadata": {},
     "output_type": "execute_result"
    }
   ],
   "source": [
    "sales_series_float = sales_series.astype('float')\n",
    "sales_series_float"
   ]
  },
  {
   "cell_type": "code",
   "execution_count": 59,
   "metadata": {},
   "outputs": [
    {
     "data": {
      "text/plain": [
       "3        0.0\n",
       "4        5.0\n",
       "5      155.0\n",
       "6        0.0\n",
       "7      518.0\n",
       "8        0.0\n",
       "14    1827.0\n",
       "16     616.0\n",
       "67     317.0\n",
       "10     325.0\n",
       "Name: new sales, dtype: object"
      ]
     },
     "execution_count": 59,
     "metadata": {},
     "output_type": "execute_result"
    }
   ],
   "source": [
    "sales_series_ob = sales_series_float.astype('object')\n",
    "sales_series_ob"
   ]
  },
  {
   "cell_type": "code",
   "execution_count": 60,
   "metadata": {},
   "outputs": [
    {
     "data": {
      "text/plain": [
       "3        0.0\n",
       "4        5.0\n",
       "5      155.0\n",
       "6        0.0\n",
       "7      518.0\n",
       "8        0.0\n",
       "14    1827.0\n",
       "16     616.0\n",
       "67     317.0\n",
       "10     325.0\n",
       "Name: new sales, dtype: string"
      ]
     },
     "execution_count": 60,
     "metadata": {},
     "output_type": "execute_result"
    }
   ],
   "source": [
    "\n",
    "sales_series_str = sales_series_ob.astype('string')\n",
    "sales_series_str"
   ]
  },
  {
   "cell_type": "code",
   "execution_count": 61,
   "metadata": {},
   "outputs": [
    {
     "name": "stdout",
     "output_type": "stream",
     "text": [
      "3        0.0\n",
      "4        5.0\n",
      "5      155.0\n",
      "6        0.0\n",
      "7      518.0\n",
      "8        0.0\n",
      "14    1827.0\n",
      "16     616.0\n",
      "67     317.0\n",
      "10     325.0\n",
      "Name: new sales, dtype: float64\n",
      "3        0.0\n",
      "4        5.0\n",
      "5      155.0\n",
      "6        0.0\n",
      "7      518.0\n",
      "8        0.0\n",
      "14    1827.0\n",
      "16     616.0\n",
      "67     317.0\n",
      "10     325.0\n",
      "Name: new sales, dtype: object\n"
     ]
    }
   ],
   "source": [
    "# can not convert from string to int but other conversion is valid\n",
    "# sales_series_str.astype('int')\n",
    "\n",
    "\n",
    "print(sales_series_str.astype('float'))\n",
    "print(sales_series_str.astype('object'))"
   ]
  },
  {
   "cell_type": "code",
   "execution_count": 62,
   "metadata": {},
   "outputs": [],
   "source": [
    "# sales_series_str.sum()\n",
    "# can not canculate sum ,mean std etc for str array"
   ]
  },
  {
   "cell_type": "markdown",
   "metadata": {},
   "source": [
    "INDEX SLICING\n"
   ]
  },
  {
   "cell_type": "code",
   "execution_count": 63,
   "metadata": {},
   "outputs": [
    {
     "data": {
      "text/plain": [
       "0      0\n",
       "1      5\n",
       "2    155\n",
       "3      0\n",
       "4    518\n",
       "Name: sales, dtype: int64"
      ]
     },
     "execution_count": 63,
     "metadata": {},
     "output_type": "execute_result"
    }
   ],
   "source": [
    "sales = [0, 5, 155, 0, 518]\n",
    "sales_series = pd.Series(sales, name=\"sales\")\n",
    "sales_series"
   ]
  },
  {
   "cell_type": "code",
   "execution_count": 64,
   "metadata": {},
   "outputs": [
    {
     "name": "stdout",
     "output_type": "stream",
     "text": [
      "5\n",
      "1      5\n",
      "2    155\n",
      "Name: sales, dtype: int64\n",
      "0      0\n",
      "2    155\n",
      "4    518\n",
      "Name: sales, dtype: int64\n"
     ]
    }
   ],
   "source": [
    "print(sales_series[1])\n",
    "print(sales_series[1:3])\n",
    "print(sales_series[::2])"
   ]
  },
  {
   "cell_type": "code",
   "execution_count": 65,
   "metadata": {},
   "outputs": [
    {
     "data": {
      "text/plain": [
       "coffes       0\n",
       "bananas      5\n",
       "teas       155\n",
       "coconut      0\n",
       "sugar      518\n",
       "Name: items with sales, dtype: int64"
      ]
     },
     "execution_count": 65,
     "metadata": {},
     "output_type": "execute_result"
    }
   ],
   "source": [
    "sales = [0, 5, 155, 0, 518]\n",
    "items = ['coffes ', 'bananas', 'teas', 'coconut', 'sugar']\n",
    "\n",
    "sales_series = pd.Series(sales, index=items, name='items with sales')\n",
    "sales_series"
   ]
  },
  {
   "cell_type": "code",
   "execution_count": 66,
   "metadata": {},
   "outputs": [
    {
     "name": "stdout",
     "output_type": "stream",
     "text": [
      "155\n",
      "bananas      5\n",
      "teas       155\n",
      "coconut      0\n",
      "Name: items with sales, dtype: int64\n",
      "bananas      5\n",
      "teas       155\n",
      "Name: items with sales, dtype: int64\n"
     ]
    }
   ],
   "source": [
    "print(sales_series['teas'])\n",
    "print(sales_series['bananas': 'coconut'])\n",
    "print(sales_series[1: 3])"
   ]
  },
  {
   "cell_type": "markdown",
   "metadata": {},
   "source": [
    "ILOC METHOD MUCH FASTER SUITABLE FOR PANDAS DATAFRAMES WHERE WE WILL WORK WITH COLOUM AND AS WELL AS ROWS\n"
   ]
  },
  {
   "cell_type": "code",
   "execution_count": 67,
   "metadata": {},
   "outputs": [
    {
     "name": "stdout",
     "output_type": "stream",
     "text": [
      "coffes       0\n",
      "bananas      5\n",
      "teas       155\n",
      "coconut      0\n",
      "sugar      518\n",
      "Name: items with sales, dtype: int64\n",
      "bananas      5\n",
      "teas       155\n",
      "coconut      0\n",
      "sugar      518\n",
      "Name: items with sales, dtype: int64\n"
     ]
    },
    {
     "data": {
      "text/plain": [
       "5"
      ]
     },
     "execution_count": 67,
     "metadata": {},
     "output_type": "execute_result"
    }
   ],
   "source": [
    "print(sales_series)\n",
    "print(sales_series.iloc[1:])\n",
    "sales_series['bananas']"
   ]
  },
  {
   "cell_type": "code",
   "execution_count": 68,
   "metadata": {},
   "outputs": [
    {
     "name": "stdout",
     "output_type": "stream",
     "text": [
      "bananas      5\n",
      "teas       155\n",
      "coconut      0\n",
      "Name: items with sales, dtype: int64\n",
      "bananas      5\n",
      "coconut      0\n",
      "teas       155\n",
      "Name: items with sales, dtype: int64\n",
      "bananas      5\n",
      "coconut      0\n",
      "sugar      518\n",
      "Name: items with sales, dtype: int64\n"
     ]
    }
   ],
   "source": [
    "print(sales_series['bananas':'coconut'])\n",
    "\n",
    "print(sales_series[['bananas', 'coconut', 'teas']])\n",
    "\n",
    "print(sales_series[[1, 3, 4]])"
   ]
  },
  {
   "cell_type": "markdown",
   "metadata": {},
   "source": [
    "LOC FUNCTION AND HOW IT WORKS\n",
    "LOC METHID IS INCLUSIVE FROM START TO STOP\n"
   ]
  },
  {
   "cell_type": "code",
   "execution_count": 69,
   "metadata": {},
   "outputs": [
    {
     "data": {
      "text/plain": [
       "coffes       0\n",
       "bananas      5\n",
       "teas       155\n",
       "coconut      0\n",
       "sugar      518\n",
       "Name: items with sales, dtype: int64"
      ]
     },
     "execution_count": 69,
     "metadata": {},
     "output_type": "execute_result"
    }
   ],
   "source": [
    "sales_series"
   ]
  },
  {
   "cell_type": "code",
   "execution_count": 70,
   "metadata": {},
   "outputs": [
    {
     "data": {
      "text/plain": [
       "5"
      ]
     },
     "execution_count": 70,
     "metadata": {},
     "output_type": "execute_result"
    }
   ],
   "source": [
    "sales_series.loc[\"bananas\"]"
   ]
  },
  {
   "cell_type": "code",
   "execution_count": 71,
   "metadata": {},
   "outputs": [
    {
     "data": {
      "text/plain": [
       "bananas      5\n",
       "teas       155\n",
       "coconut      0\n",
       "Name: items with sales, dtype: int64"
      ]
     },
     "execution_count": 71,
     "metadata": {},
     "output_type": "execute_result"
    }
   ],
   "source": [
    "sales_series.loc['bananas':'coconut']"
   ]
  },
  {
   "cell_type": "code",
   "execution_count": 72,
   "metadata": {},
   "outputs": [
    {
     "data": {
      "text/plain": [
       "0        0\n",
       "2        5\n",
       "3      155\n",
       "100      0\n",
       "5      518\n",
       "Name: items with sales, dtype: int64"
      ]
     },
     "execution_count": 72,
     "metadata": {},
     "output_type": "execute_result"
    }
   ],
   "source": [
    "sales_series.index = [0, 2, 3, 100, 5]\n",
    "sales_series"
   ]
  },
  {
   "cell_type": "code",
   "execution_count": 73,
   "metadata": {},
   "outputs": [
    {
     "data": {
      "text/plain": [
       "0      0\n",
       "1      5\n",
       "2    155\n",
       "3      0\n",
       "4    518\n",
       "Name: items with sales, dtype: int64"
      ]
     },
     "execution_count": 73,
     "metadata": {},
     "output_type": "execute_result"
    }
   ],
   "source": [
    "sales_series.loc[0:3]\n",
    "sales_series.reset_index(drop=True)"
   ]
  },
  {
   "cell_type": "markdown",
   "metadata": {},
   "source": [
    "RESETING INDEX\n"
   ]
  },
  {
   "cell_type": "code",
   "execution_count": 74,
   "metadata": {},
   "outputs": [
    {
     "data": {
      "text/plain": [
       "day 1    1\n",
       "day 1    2\n",
       "day 1    3\n",
       "day 2    4\n",
       "day 2    5\n",
       "dtype: int64"
      ]
     },
     "execution_count": 74,
     "metadata": {},
     "output_type": "execute_result"
    }
   ],
   "source": [
    "my_series = pd.Series([1, 2, 3, 4, 5], index=[\n",
    "                      'day 1', 'day 1', 'day 1', 'day 2', 'day 2'])\n",
    "\n",
    "my_series"
   ]
  },
  {
   "cell_type": "code",
   "execution_count": 75,
   "metadata": {},
   "outputs": [
    {
     "data": {
      "text/plain": [
       "day 1    1\n",
       "day 1    2\n",
       "day 1    3\n",
       "day 2    4\n",
       "day 2    5\n",
       "dtype: int64"
      ]
     },
     "execution_count": 75,
     "metadata": {},
     "output_type": "execute_result"
    }
   ],
   "source": [
    "my_series['day 1':'day 2']\n",
    "\n",
    "# this will return every thing"
   ]
  },
  {
   "cell_type": "code",
   "execution_count": 76,
   "metadata": {},
   "outputs": [
    {
     "data": {
      "text/html": [
       "<div>\n",
       "<style scoped>\n",
       "    .dataframe tbody tr th:only-of-type {\n",
       "        vertical-align: middle;\n",
       "    }\n",
       "\n",
       "    .dataframe tbody tr th {\n",
       "        vertical-align: top;\n",
       "    }\n",
       "\n",
       "    .dataframe thead th {\n",
       "        text-align: right;\n",
       "    }\n",
       "</style>\n",
       "<table border=\"1\" class=\"dataframe\">\n",
       "  <thead>\n",
       "    <tr style=\"text-align: right;\">\n",
       "      <th></th>\n",
       "      <th>index</th>\n",
       "      <th>0</th>\n",
       "    </tr>\n",
       "  </thead>\n",
       "  <tbody>\n",
       "    <tr>\n",
       "      <th>0</th>\n",
       "      <td>day 1</td>\n",
       "      <td>1</td>\n",
       "    </tr>\n",
       "    <tr>\n",
       "      <th>1</th>\n",
       "      <td>day 1</td>\n",
       "      <td>2</td>\n",
       "    </tr>\n",
       "    <tr>\n",
       "      <th>2</th>\n",
       "      <td>day 1</td>\n",
       "      <td>3</td>\n",
       "    </tr>\n",
       "    <tr>\n",
       "      <th>3</th>\n",
       "      <td>day 2</td>\n",
       "      <td>4</td>\n",
       "    </tr>\n",
       "    <tr>\n",
       "      <th>4</th>\n",
       "      <td>day 2</td>\n",
       "      <td>5</td>\n",
       "    </tr>\n",
       "  </tbody>\n",
       "</table>\n",
       "</div>"
      ],
      "text/plain": [
       "   index  0\n",
       "0  day 1  1\n",
       "1  day 1  2\n",
       "2  day 1  3\n",
       "3  day 2  4\n",
       "4  day 2  5"
      ]
     },
     "execution_count": 76,
     "metadata": {},
     "output_type": "execute_result"
    }
   ],
   "source": [
    "# reset_index gives data frame\n",
    "\n",
    "my_series.reset_index()"
   ]
  },
  {
   "cell_type": "code",
   "execution_count": 77,
   "metadata": {},
   "outputs": [
    {
     "data": {
      "text/plain": [
       "1    2\n",
       "2    3\n",
       "3    4\n",
       "dtype: int64"
      ]
     },
     "execution_count": 77,
     "metadata": {},
     "output_type": "execute_result"
    }
   ],
   "source": [
    "my_series.reset_index(drop=True).loc[1:3]"
   ]
  },
  {
   "cell_type": "markdown",
   "metadata": {},
   "source": [
    "SORTING AND FILTERING\n"
   ]
  },
  {
   "cell_type": "code",
   "execution_count": 78,
   "metadata": {},
   "outputs": [
    {
     "data": {
      "text/plain": [
       "coffe        0\n",
       "coffee       5\n",
       "tea        155\n",
       "coconut      0\n",
       "sugar      518\n",
       "Name: sales array, dtype: int64"
      ]
     },
     "execution_count": 78,
     "metadata": {},
     "output_type": "execute_result"
    }
   ],
   "source": [
    "sales_series = pd.Series([0, 5, 155, 0, 518], index=[\n",
    "                         'coffe', 'coffee', 'tea', 'coconut', 'sugar'], name='sales array')\n",
    "\n",
    "sales_series"
   ]
  },
  {
   "cell_type": "code",
   "execution_count": 79,
   "metadata": {},
   "outputs": [
    {
     "data": {
      "text/plain": [
       "coffe      False\n",
       "coffee      True\n",
       "tea         True\n",
       "coconut    False\n",
       "sugar       True\n",
       "Name: sales array, dtype: bool"
      ]
     },
     "execution_count": 79,
     "metadata": {},
     "output_type": "execute_result"
    }
   ],
   "source": [
    "# return true false\n",
    "sales_series > 0"
   ]
  },
  {
   "cell_type": "code",
   "execution_count": 80,
   "metadata": {},
   "outputs": [
    {
     "data": {
      "text/plain": [
       "coffee      5\n",
       "tea       155\n",
       "sugar     518\n",
       "Name: sales array, dtype: int64"
      ]
     },
     "execution_count": 80,
     "metadata": {},
     "output_type": "execute_result"
    }
   ],
   "source": [
    "# returns values of sales where the condition is true\n",
    "sales_series[sales_series > 0]"
   ]
  },
  {
   "cell_type": "code",
   "execution_count": 81,
   "metadata": {},
   "outputs": [
    {
     "data": {
      "text/plain": [
       "coffee    5\n",
       "Name: sales array, dtype: int64"
      ]
     },
     "execution_count": 81,
     "metadata": {},
     "output_type": "execute_result"
    }
   ],
   "source": [
    "mask = (sales_series.index == \"coffee\") & (sales_series > 0)\n",
    "sales_series[mask]"
   ]
  },
  {
   "cell_type": "markdown",
   "metadata": {},
   "source": [
    "SORITNG\n"
   ]
  },
  {
   "cell_type": "code",
   "execution_count": 82,
   "metadata": {},
   "outputs": [
    {
     "name": "stdout",
     "output_type": "stream",
     "text": [
      "coconut      0\n",
      "coffe        0\n",
      "coffee       5\n",
      "sugar      518\n",
      "tea        155\n",
      "Name: sales array, dtype: int64\n",
      "coffe        0\n",
      "coconut      0\n",
      "coffee       5\n",
      "tea        155\n",
      "sugar      518\n",
      "Name: sales array, dtype: int64\n"
     ]
    }
   ],
   "source": [
    "sales_series\n",
    "# sorting is not in place\n",
    "# by default ascending\n",
    "SortedSalesSeriesIdx = sales_series.sort_index()\n",
    "SortedSalesSeriesVal = sales_series.sort_values()\n",
    "\n",
    "print(SortedSalesSeriesIdx)\n",
    "\n",
    "\n",
    "print(SortedSalesSeriesVal)"
   ]
  },
  {
   "cell_type": "code",
   "execution_count": 83,
   "metadata": {},
   "outputs": [
    {
     "data": {
      "text/plain": [
       "sugar      518\n",
       "tea        155\n",
       "coffee       5\n",
       "coffe        0\n",
       "coconut      0\n",
       "Name: sales array, dtype: int64"
      ]
     },
     "execution_count": 83,
     "metadata": {},
     "output_type": "execute_result"
    }
   ],
   "source": [
    "# code in decending order\n",
    "\n",
    "sales_series.sort_values(ascending=False)"
   ]
  },
  {
   "cell_type": "markdown",
   "metadata": {},
   "source": [
    "ARITHMATIC OPERATION\n"
   ]
  },
  {
   "cell_type": "code",
   "execution_count": 84,
   "metadata": {},
   "outputs": [
    {
     "data": {
      "text/plain": [
       "day 0    1.0\n",
       "day 1    NaN\n",
       "day 2    2.0\n",
       "day 3    3.0\n",
       "day 4    4.0\n",
       "dtype: float64"
      ]
     },
     "execution_count": 84,
     "metadata": {},
     "output_type": "execute_result"
    }
   ],
   "source": [
    "my_series = pd.Series([1, np.NaN, 2, 3, 4], index=[\n",
    "                      'day 0', 'day 1', 'day 2', 'day 3', 'day 4'])\n",
    "my_series"
   ]
  },
  {
   "cell_type": "code",
   "execution_count": 85,
   "metadata": {},
   "outputs": [
    {
     "data": {
      "text/plain": [
       "day 0    3.0\n",
       "day 1    NaN\n",
       "day 2    4.0\n",
       "day 3    5.0\n",
       "day 4    6.0\n",
       "dtype: float64"
      ]
     },
     "execution_count": 85,
     "metadata": {},
     "output_type": "execute_result"
    }
   ],
   "source": [
    "my_series+2"
   ]
  },
  {
   "cell_type": "code",
   "execution_count": 86,
   "metadata": {},
   "outputs": [
    {
     "data": {
      "text/plain": [
       "day 0    2.0\n",
       "day 1    NaN\n",
       "day 2    3.0\n",
       "day 3    4.0\n",
       "day 4    5.0\n",
       "dtype: float64"
      ]
     },
     "execution_count": 86,
     "metadata": {},
     "output_type": "execute_result"
    }
   ],
   "source": [
    "my_series+3//2"
   ]
  },
  {
   "cell_type": "code",
   "execution_count": 87,
   "metadata": {},
   "outputs": [
    {
     "data": {
      "text/plain": [
       "day 0    4.0\n",
       "day 1    4.0\n",
       "day 2    5.0\n",
       "day 3    6.0\n",
       "day 4    7.0\n",
       "dtype: float64"
      ]
     },
     "execution_count": 87,
     "metadata": {},
     "output_type": "execute_result"
    }
   ],
   "source": [
    "# if there is a NaN then fill the value 1 in place of Nan and add 3\n",
    "my_series.add(3, fill_value=1)"
   ]
  },
  {
   "cell_type": "markdown",
   "metadata": {},
   "source": [
    "STRING METHOD\n"
   ]
  },
  {
   "cell_type": "code",
   "execution_count": 88,
   "metadata": {},
   "outputs": [],
   "source": [
    "prices = pd.Series(['$3.99', '$5.99', '$22.99', '$7.99',\n",
    "                   '$33.99'], index=[0, 1, 2, 3, 4])"
   ]
  },
  {
   "cell_type": "code",
   "execution_count": 89,
   "metadata": {},
   "outputs": [
    {
     "data": {
      "text/plain": [
       "0     5.99\n",
       "1     7.99\n",
       "2    24.99\n",
       "3     9.99\n",
       "4    35.99\n",
       "dtype: float64"
      ]
     },
     "execution_count": 89,
     "metadata": {},
     "output_type": "execute_result"
    }
   ],
   "source": [
    "# Strip $ sign\n",
    "\n",
    "prices.str.strip('$').astype(float)+2"
   ]
  },
  {
   "cell_type": "code",
   "execution_count": 90,
   "metadata": {},
   "outputs": [
    {
     "data": {
      "text/plain": [
       "1    day 1\n",
       "2    day 2\n",
       "3    day 3\n",
       "4    day 4\n",
       "dtype: object"
      ]
     },
     "execution_count": 90,
     "metadata": {},
     "output_type": "execute_result"
    }
   ],
   "source": [
    "days_array = pd.Series(['day 1', 'day 2',\n",
    "                        'day 3', 'day 4'], index=[1, 2, 3, 4])\n",
    "days_array"
   ]
  },
  {
   "cell_type": "code",
   "execution_count": 91,
   "metadata": {},
   "outputs": [
    {
     "data": {
      "text/plain": [
       "1    1\n",
       "2    2\n",
       "3    3\n",
       "4    4\n",
       "dtype: int32"
      ]
     },
     "execution_count": 91,
     "metadata": {},
     "output_type": "execute_result"
    }
   ],
   "source": [
    "days_array.str[-1].astype(int)"
   ]
  },
  {
   "cell_type": "code",
   "execution_count": 92,
   "metadata": {},
   "outputs": [
    {
     "name": "stdout",
     "output_type": "stream",
     "text": [
      "1    [day, 1]\n",
      "2    [day, 2]\n",
      "3    [day, 3]\n",
      "4    [day, 4]\n",
      "dtype: object\n",
      "     0  1\n",
      "1  day  1\n",
      "2  day  2\n",
      "3  day  3\n",
      "4  day  4\n"
     ]
    }
   ],
   "source": [
    "# split method can return array\n",
    "\n",
    "print(days_array.str.split(\" \"))\n",
    "\n",
    "# days array should return\n",
    "\n",
    "print(days_array.str.split(\" \", expand=True))"
   ]
  },
  {
   "cell_type": "markdown",
   "metadata": {},
   "source": [
    "aggregate numerical Series\n"
   ]
  },
  {
   "cell_type": "code",
   "execution_count": 93,
   "metadata": {},
   "outputs": [
    {
     "name": "stdout",
     "output_type": "stream",
     "text": [
      "5\n",
      "5.0\n",
      "135.6\n",
      "0.25      0.0\n",
      "0.50      5.0\n",
      "0.75    155.0\n",
      "Name: sales array, dtype: float64\n",
      "\n",
      "5\n"
     ]
    }
   ],
   "source": [
    "sales_series = sales_series.rename(index={'coffe': 'coffee'})\n",
    "print(sales_series.loc['coffee'].sum())\n",
    "\n",
    "print(sales_series.median())\n",
    "print(sales_series.mean())\n",
    "print(sales_series.quantile([.25, .5, .75]))\n",
    "print()\n",
    "print(sales_series.count())"
   ]
  },
  {
   "cell_type": "markdown",
   "metadata": {},
   "source": [
    "AGGREGATE CATEGORICAL SERIES\n"
   ]
  },
  {
   "cell_type": "code",
   "execution_count": 94,
   "metadata": {},
   "outputs": [
    {
     "data": {
      "text/plain": [
       "coffee       0\n",
       "coffee       5\n",
       "tea        155\n",
       "coconut      0\n",
       "sugar      518\n",
       "Name: sales array, dtype: int64"
      ]
     },
     "execution_count": 94,
     "metadata": {},
     "output_type": "execute_result"
    }
   ],
   "source": [
    "sales_series"
   ]
  },
  {
   "cell_type": "code",
   "execution_count": 95,
   "metadata": {},
   "outputs": [
    {
     "name": "stdout",
     "output_type": "stream",
     "text": [
      "[  0   5 155 518]\n",
      "4\n",
      "sales array\n",
      "0      2\n",
      "5      1\n",
      "155    1\n",
      "518    1\n",
      "Name: count, dtype: int64\n"
     ]
    }
   ],
   "source": [
    "# returns array of unique items\n",
    "\n",
    "print(sales_series.unique())\n",
    "\n",
    "# reuturn integer count of unique elements\n",
    "\n",
    "print(sales_series.nunique())\n",
    "\n",
    "# returns a series with unique elements and their count\n",
    "\n",
    "print(sales_series.value_counts())"
   ]
  },
  {
   "cell_type": "markdown",
   "metadata": {},
   "source": [
    "HANDELING MISSING DATA\n"
   ]
  },
  {
   "cell_type": "code",
   "execution_count": 96,
   "metadata": {},
   "outputs": [
    {
     "data": {
      "text/plain": [
       "0       1\n",
       "1       2\n",
       "2       3\n",
       "3    <NA>\n",
       "4       4\n",
       "5       5\n",
       "dtype: object"
      ]
     },
     "execution_count": 96,
     "metadata": {},
     "output_type": "execute_result"
    }
   ],
   "source": [
    "my_series = pd.Series([1, 2, 3, pd.NA, 4, 5], index=[0, 1, 2, 3, 4, 5])\n",
    "my_series"
   ]
  },
  {
   "cell_type": "code",
   "execution_count": 102,
   "metadata": {},
   "outputs": [
    {
     "name": "stdout",
     "output_type": "stream",
     "text": [
      "0    False\n",
      "1    False\n",
      "2    False\n",
      "3     True\n",
      "4    False\n",
      "5    False\n",
      "dtype: bool\n"
     ]
    },
    {
     "data": {
      "text/plain": [
       "1       1\n",
       "2       1\n",
       "3       1\n",
       "<NA>    1\n",
       "4       1\n",
       "5       1\n",
       "Name: count, dtype: int64"
      ]
     },
     "execution_count": 102,
     "metadata": {},
     "output_type": "execute_result"
    }
   ],
   "source": [
    "print(my_series.isna())\n",
    "my_series.isna().sum()\n",
    "\n",
    "my_series.value_counts(dropna=False)"
   ]
  },
  {
   "cell_type": "code",
   "execution_count": 103,
   "metadata": {},
   "outputs": [
    {
     "data": {
      "text/plain": [
       "0    1.0\n",
       "1    2.0\n",
       "2    3.0\n",
       "3    3.0\n",
       "4    4.0\n",
       "5    5.0\n",
       "dtype: float64"
      ]
     },
     "execution_count": 103,
     "metadata": {},
     "output_type": "execute_result"
    }
   ],
   "source": [
    "my_series.fillna(my_series.mean())"
   ]
  }
 ],
 "metadata": {
  "kernelspec": {
   "display_name": "base",
   "language": "python",
   "name": "python3"
  },
  "language_info": {
   "codemirror_mode": {
    "name": "ipython",
    "version": 3
   },
   "file_extension": ".py",
   "mimetype": "text/x-python",
   "name": "python",
   "nbconvert_exporter": "python",
   "pygments_lexer": "ipython3",
   "version": "3.11.4"
  }
 },
 "nbformat": 4,
 "nbformat_minor": 2
}
