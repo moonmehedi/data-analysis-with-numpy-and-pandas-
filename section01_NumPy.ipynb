{
 "cells": [
  {
   "cell_type": "markdown",
   "id": "d0d4a2ef",
   "metadata": {},
   "source": [
    "### Package Imports\n"
   ]
  },
  {
   "cell_type": "code",
   "execution_count": 3,
   "id": "dbd96293",
   "metadata": {},
   "outputs": [],
   "source": [
    "import numpy as np"
   ]
  },
  {
   "cell_type": "markdown",
   "id": "3a5e9bd3",
   "metadata": {},
   "source": [
    "# Assignment 1: Array Basics\n",
    "\n",
    "Hi there,\n",
    "\n",
    "Can you import Numpy and convert the following list comprehension (I just learned about comprehensions in an awesome course by Maven) into an array?\n",
    "\n",
    "Once you've done that report the following about the array:\n",
    "\n",
    "- The number of dimensions\n",
    "- The shape\n",
    "- The number of elements in the array\n",
    "- The type of data contained inside\n"
   ]
  },
  {
   "cell_type": "code",
   "execution_count": 4,
   "id": "6d3f8d99",
   "metadata": {},
   "outputs": [
    {
     "data": {
      "text/plain": [
       "array([ 10,  20,  30,  40,  50,  60,  70,  80,  90, 100])"
      ]
     },
     "execution_count": 4,
     "metadata": {},
     "output_type": "execute_result"
    }
   ],
   "source": [
    "my_list = [x * 10 for x in range(1, 11)]\n",
    "arr = np.array(my_list)\n",
    "arr"
   ]
  },
  {
   "cell_type": "code",
   "execution_count": 5,
   "id": "ac0d2c7b",
   "metadata": {},
   "outputs": [
    {
     "data": {
      "text/plain": [
       "1"
      ]
     },
     "execution_count": 5,
     "metadata": {},
     "output_type": "execute_result"
    }
   ],
   "source": [
    "arr.ndim"
   ]
  },
  {
   "cell_type": "code",
   "execution_count": 6,
   "id": "49d55877",
   "metadata": {},
   "outputs": [
    {
     "data": {
      "text/plain": [
       "(10,)"
      ]
     },
     "execution_count": 6,
     "metadata": {},
     "output_type": "execute_result"
    }
   ],
   "source": [
    "arr.shape"
   ]
  },
  {
   "cell_type": "code",
   "execution_count": 7,
   "id": "7b50a227",
   "metadata": {},
   "outputs": [
    {
     "data": {
      "text/plain": [
       "10"
      ]
     },
     "execution_count": 7,
     "metadata": {},
     "output_type": "execute_result"
    }
   ],
   "source": [
    "arr.size"
   ]
  },
  {
   "cell_type": "code",
   "execution_count": 8,
   "id": "6c5d9bd1",
   "metadata": {},
   "outputs": [
    {
     "data": {
      "text/plain": [
       "dtype('int32')"
      ]
     },
     "execution_count": 8,
     "metadata": {},
     "output_type": "execute_result"
    }
   ],
   "source": [
    "arr.dtype"
   ]
  },
  {
   "cell_type": "markdown",
   "id": "8ff92bb7",
   "metadata": {},
   "source": [
    "# Assignment 2: Array Creation\n",
    "\n",
    "Thanks for your help with the first piece - I'm starting to understand some of the key differences between base Python data types and NumPy arrays.\n",
    "\n",
    "Does NumPy have anything like the range() function from base Python?\n",
    "\n",
    "If so:\n",
    "\n",
    "- create the same array from assignment 1 using a NumPy function.\n",
    "- Make it 5 rows and 2 columns.\n",
    "- It's ok if the datatype is float or int.\n"
   ]
  },
  {
   "cell_type": "code",
   "execution_count": 9,
   "id": "81839e0f",
   "metadata": {},
   "outputs": [
    {
     "data": {
      "text/plain": [
       "array([ 10,  20,  30,  40,  50,  60,  70,  80,  90, 100])"
      ]
     },
     "execution_count": 9,
     "metadata": {},
     "output_type": "execute_result"
    }
   ],
   "source": [
    "new_arr = np.linspace(10, 100, 10, dtype='int')\n",
    "new_arr"
   ]
  },
  {
   "cell_type": "markdown",
   "id": "e0849aa4",
   "metadata": {},
   "source": [
    "Looking good so far! One of our data scientists asked about random number generation in NumPy.\n",
    "\n",
    "Can you create a 3x3 array of random numbers between 0 and 1? Use a random state of 2022.\n",
    "\n",
    "Store the random array in a variable called `random_array`.\n"
   ]
  },
  {
   "cell_type": "code",
   "execution_count": 10,
   "id": "a2e29128",
   "metadata": {},
   "outputs": [
    {
     "data": {
      "text/plain": [
       "array([[0.25082446, 0.94675294, 0.18932038],\n",
       "       [0.17929141, 0.34988924, 0.23054125],\n",
       "       [0.67044574, 0.11507938, 0.89630937]])"
      ]
     },
     "execution_count": 10,
     "metadata": {},
     "output_type": "execute_result"
    }
   ],
   "source": [
    "from numpy.random import default_rng as drng\n",
    "\n",
    "rng = drng(12)\n",
    "\n",
    "random_array = rng.random((3, 3))\n",
    "random_array"
   ]
  },
  {
   "cell_type": "markdown",
   "id": "6927e8b0",
   "metadata": {},
   "source": [
    "# Assignment 3: Accessing Array Data\n",
    "\n",
    "Slice and index the `random_array` we created in the previous exercise. Perform the following:\n",
    "\n",
    "- Grab the first two 'rows' of the array\n",
    "- Grab the entire first column\n",
    "- Finally, grab the second selement of the third row.\n",
    "\n",
    "Thanks!\n"
   ]
  },
  {
   "cell_type": "code",
   "execution_count": 11,
   "id": "62a4e208",
   "metadata": {},
   "outputs": [
    {
     "data": {
      "text/plain": [
       "array([[0.25082446, 0.94675294, 0.18932038],\n",
       "       [0.17929141, 0.34988924, 0.23054125]])"
      ]
     },
     "execution_count": 11,
     "metadata": {},
     "output_type": "execute_result"
    }
   ],
   "source": [
    "random_array[:2, :]"
   ]
  },
  {
   "cell_type": "code",
   "execution_count": 12,
   "id": "8f9e9acf",
   "metadata": {
    "scrolled": true
   },
   "outputs": [
    {
     "data": {
      "text/plain": [
       "array([0.25082446, 0.17929141, 0.67044574])"
      ]
     },
     "execution_count": 12,
     "metadata": {},
     "output_type": "execute_result"
    }
   ],
   "source": [
    "random_array[:, 0]"
   ]
  },
  {
   "cell_type": "code",
   "execution_count": 13,
   "id": "87fa83f7",
   "metadata": {},
   "outputs": [
    {
     "data": {
      "text/plain": [
       "0.11507938212344748"
      ]
     },
     "execution_count": 13,
     "metadata": {},
     "output_type": "execute_result"
    }
   ],
   "source": [
    "random_array[2, 1]"
   ]
  },
  {
   "cell_type": "code",
   "execution_count": null,
   "id": "fe985696",
   "metadata": {},
   "outputs": [],
   "source": []
  },
  {
   "cell_type": "markdown",
   "id": "6e9ae36a",
   "metadata": {},
   "source": [
    "# Assignment 4: Arithmetic Operations\n"
   ]
  },
  {
   "cell_type": "markdown",
   "id": "b7283da4",
   "metadata": {},
   "source": [
    "The creativity of our marketing team knows no bounds!\n",
    "\n",
    "They've asked us to come up with a simple algorithm to provide a random discount to our list of prices below.\n",
    "\n",
    "Before we do that,\n",
    "\n",
    "- Add a 5 dollar shipping fee to each price. Call this array `total`.\n",
    "\n",
    "Once we have that, we want to use the random_array created in assignment 2 and apply them to the 6 prices.\n",
    "\n",
    "- Grab the first 6 numbers from `random_array`, reshape it to one dimension. Call this `discount_pct`.\n",
    "- Subtract `discount_pct` FROM 1, store this in `pct_owed`.\n",
    "- Multiply `pct_owed` by `total` to get the final amount owed.\n"
   ]
  },
  {
   "cell_type": "code",
   "execution_count": 14,
   "id": "f44773da",
   "metadata": {},
   "outputs": [
    {
     "data": {
      "text/plain": [
       "array([ 10.99,  11.99,  27.49, 104.99,   9.99,  54.99])"
      ]
     },
     "execution_count": 14,
     "metadata": {},
     "output_type": "execute_result"
    }
   ],
   "source": [
    "prices = np.array([5.99, 6.99, 22.49, 99.99, 4.99, 49.99])\n",
    "total = prices+5\n",
    "total"
   ]
  },
  {
   "cell_type": "code",
   "execution_count": 15,
   "id": "9171609a",
   "metadata": {},
   "outputs": [
    {
     "data": {
      "text/plain": [
       "array([[0.25082446, 0.94675294, 0.18932038, 0.17929141, 0.34988924,\n",
       "        0.23054125]])"
      ]
     },
     "execution_count": 15,
     "metadata": {},
     "output_type": "execute_result"
    }
   ],
   "source": [
    "discount_pct = random_array[:2].reshape(1, 6)\n",
    "discount_pct"
   ]
  },
  {
   "cell_type": "code",
   "execution_count": 16,
   "id": "a06dbc29",
   "metadata": {},
   "outputs": [
    {
     "data": {
      "text/plain": [
       "array([[0.74917554, 0.05324706, 0.81067962, 0.82070859, 0.65011076,\n",
       "        0.76945875]])"
      ]
     },
     "execution_count": 16,
     "metadata": {},
     "output_type": "execute_result"
    }
   ],
   "source": [
    "pct_owed = 1-discount_pct\n",
    "pct_owed"
   ]
  },
  {
   "cell_type": "code",
   "execution_count": 17,
   "id": "da03368e",
   "metadata": {},
   "outputs": [
    {
     "data": {
      "text/plain": [
       "array([[ 8.23343921,  0.63843222, 22.28558263, 86.16619482,  6.49460649,\n",
       "        42.31253685]])"
      ]
     },
     "execution_count": 17,
     "metadata": {},
     "output_type": "execute_result"
    }
   ],
   "source": [
    "total*pct_owed"
   ]
  },
  {
   "cell_type": "markdown",
   "id": "30400903",
   "metadata": {},
   "source": [
    "# Assignment 5: Filtering Arrays\n",
    "\n",
    "Filter the product array to only include those with prices greater than 25.\n",
    "\n",
    "Modify your logic to include cola, despite it not having a price greater than 25.\n",
    "Store the elements returned in an array called `fancy_feast_special`.\n",
    "\n",
    "Next, create a shipping cost array where the cost is 0 if price is greater than 20, and 5 if not.\n"
   ]
  },
  {
   "cell_type": "code",
   "execution_count": 18,
   "id": "c144c432",
   "metadata": {},
   "outputs": [
    {
     "data": {
      "text/plain": [
       "array(['salad', 'bread', 'mustard', 'rare tomato', 'cola',\n",
       "       'gourmet ice cream'], dtype='<U17')"
      ]
     },
     "execution_count": 18,
     "metadata": {},
     "output_type": "execute_result"
    }
   ],
   "source": [
    "products = np.array(\n",
    "    [\"salad\", \"bread\", \"mustard\", \"rare tomato\", \"cola\", \"gourmet ice cream\"]\n",
    ")\n",
    "\n",
    "products"
   ]
  },
  {
   "cell_type": "code",
   "execution_count": 19,
   "id": "ba1b077b",
   "metadata": {},
   "outputs": [
    {
     "data": {
      "text/plain": [
       "array(['rare tomato', 'gourmet ice cream'], dtype='<U17')"
      ]
     },
     "execution_count": 19,
     "metadata": {},
     "output_type": "execute_result"
    }
   ],
   "source": [
    "products[prices > 25]"
   ]
  },
  {
   "cell_type": "code",
   "execution_count": 20,
   "id": "4002705c",
   "metadata": {},
   "outputs": [
    {
     "data": {
      "text/plain": [
       "array(['rare tomato', 'cola', 'gourmet ice cream'], dtype='<U17')"
      ]
     },
     "execution_count": 20,
     "metadata": {},
     "output_type": "execute_result"
    }
   ],
   "source": [
    "fancy_feast_special = products[(prices > 25) | (products == 'cola')]\n",
    "fancy_feast_special"
   ]
  },
  {
   "cell_type": "code",
   "execution_count": 21,
   "id": "4a8368d4",
   "metadata": {},
   "outputs": [
    {
     "data": {
      "text/plain": [
       "array([5, 5, 0, 0, 5, 0])"
      ]
     },
     "execution_count": 21,
     "metadata": {},
     "output_type": "execute_result"
    }
   ],
   "source": [
    "shipping_cst_arr = np.where(prices > 20, 0, 5)\n",
    "shipping_cst_arr"
   ]
  },
  {
   "cell_type": "markdown",
   "id": "44ce04ed",
   "metadata": {},
   "source": [
    "# Assignment 6: Aggregating and Sorting Arrays\n",
    "\n",
    "First, grab the top 3 highest priced items in our list.\n",
    "\n",
    "Then, calculated the mean, min, max, and median of the top three prices.\n",
    "\n",
    "Finally, calculate the number of unique price tiers in our `price_tiers` array.\n"
   ]
  },
  {
   "cell_type": "code",
   "execution_count": 22,
   "id": "f97f4598",
   "metadata": {},
   "outputs": [
    {
     "data": {
      "text/plain": [
       "array([ 5.99,  6.99, 22.49, 99.99,  4.99, 49.99])"
      ]
     },
     "execution_count": 22,
     "metadata": {},
     "output_type": "execute_result"
    }
   ],
   "source": [
    "prices = np.array([5.99, 6.99, 22.49, 99.99, 4.99, 49.99])\n",
    "\n",
    "prices"
   ]
  },
  {
   "cell_type": "code",
   "execution_count": 23,
   "id": "c462eeef",
   "metadata": {},
   "outputs": [
    {
     "data": {
      "text/plain": [
       "array([99.99, 49.99, 22.49])"
      ]
     },
     "execution_count": 23,
     "metadata": {},
     "output_type": "execute_result"
    }
   ],
   "source": [
    "prices.sort()\n",
    "prices = prices[::-1][:3]\n",
    "prices"
   ]
  },
  {
   "cell_type": "code",
   "execution_count": 24,
   "id": "4a0b5694",
   "metadata": {},
   "outputs": [
    {
     "name": "stdout",
     "output_type": "stream",
     "text": [
      "57.49\n"
     ]
    },
    {
     "data": {
      "text/plain": [
       "99.99"
      ]
     },
     "execution_count": 24,
     "metadata": {},
     "output_type": "execute_result"
    }
   ],
   "source": [
    "print(prices.mean())\n",
    "prices.max()"
   ]
  },
  {
   "cell_type": "code",
   "execution_count": 25,
   "id": "de696f1a",
   "metadata": {},
   "outputs": [
    {
     "name": "stdout",
     "output_type": "stream",
     "text": [
      "22.49\n"
     ]
    },
    {
     "data": {
      "text/plain": [
       "49.99"
      ]
     },
     "execution_count": 25,
     "metadata": {},
     "output_type": "execute_result"
    }
   ],
   "source": [
    "print(prices.min())\n",
    "np.median(prices)\n",
    "np.percentile(prices, 50)"
   ]
  },
  {
   "cell_type": "code",
   "execution_count": 26,
   "id": "b9087568",
   "metadata": {},
   "outputs": [],
   "source": [
    "price_tiers = np.array([\"budget\", \"budget\", \"mid-tier\",\n",
    "                       \"luxury\", \"mid-tier\", \"luxury\"])"
   ]
  },
  {
   "cell_type": "code",
   "execution_count": 27,
   "id": "6b6e2292",
   "metadata": {},
   "outputs": [
    {
     "data": {
      "text/plain": [
       "array(['budget', 'luxury', 'mid-tier'], dtype='<U8')"
      ]
     },
     "execution_count": 27,
     "metadata": {},
     "output_type": "execute_result"
    }
   ],
   "source": [
    "np.unique(price_tiers)"
   ]
  },
  {
   "cell_type": "markdown",
   "id": "31b66238",
   "metadata": {},
   "source": [
    "# Assignment 7: Bringing it All Together\n",
    "\n",
    "Ok, final NumPy task - let's read in some data with the help of Pandas.\n",
    "\n",
    "Our data scientist provided the code to read in a csv as a Pandas dataframe, and has converted the two columns of interest to arrays.\n",
    "\n",
    "- Filter `sales_array` down to only sales where the product family was produce.\n",
    "\n",
    "- Then, randomly sample roughly half (random number < .5) of the produce sales and report the mean and median sales. Use a random seed of 2022.\n",
    "\n",
    "- Finally, create a new array that has the values 'above_both', 'above_median', and 'below_both' based on whether the sales were above the median and mean of the sample, just above the median of the sample, or below both the median and mean of the sample.\n"
   ]
  },
  {
   "cell_type": "code",
   "execution_count": 33,
   "id": "5b567c99",
   "metadata": {},
   "outputs": [
    {
     "data": {
      "text/plain": [
       "1000"
      ]
     },
     "execution_count": 33,
     "metadata": {},
     "output_type": "execute_result"
    }
   ],
   "source": [
    "import pandas as pd\n",
    "import numpy as np\n",
    "\n",
    "retail_df = pd.read_csv(\n",
    "    \"../retail/retail_2016_2017.csv\", skiprows=range(1, 11000), nrows=1000\n",
    ")\n",
    "\n",
    "family_array = np.array(retail_df[\"family\"])\n",
    "sales_array = np.array(retail_df[\"sales\"])\n",
    "sales_array.size\n",
    "family_array.size"
   ]
  },
  {
   "cell_type": "code",
   "execution_count": 29,
   "id": "a0424a65",
   "metadata": {},
   "outputs": [
    {
     "data": {
      "text/plain": [
       "array([1.77000000e+02, 3.60000000e+01, 2.29106000e+03, 1.60000000e+01,\n",
       "       2.00000000e+00, 1.20000000e+01, 7.00000000e+00, 0.00000000e+00,\n",
       "       1.94000000e+02, 3.00000000e+00, 2.00000000e+00, 6.00000000e+00,\n",
       "       4.60000000e+01, 1.00000000e+00, 2.18416000e+02, 1.84000000e+02,\n",
       "       4.00000000e+00, 1.00000000e+00, 2.63230000e+02, 5.10000000e+01,\n",
       "       1.66239400e+03, 0.00000000e+00, 6.53600030e+00, 1.00000000e+01,\n",
       "       0.00000000e+00, 2.00000000e+00, 3.03300000e+03, 0.00000000e+00,\n",
       "       1.61000000e+02, 1.20000000e+01, 7.18000000e+02, 2.67000000e+02,\n",
       "       2.80000000e+02, 2.70000000e+01, 4.70000000e+01, 2.45300000e+03,\n",
       "       2.00000000e+00, 1.00000000e+00, 2.20000000e+01, 8.00000000e+00,\n",
       "       0.00000000e+00, 1.39000000e+02, 1.00000000e+00, 0.00000000e+00,\n",
       "       2.00000000e+00, 4.60000000e+01, 1.00000000e+00, 1.68847000e+02,\n",
       "       1.90000000e+02, 0.00000000e+00, 0.00000000e+00, 2.18873000e+02,\n",
       "       4.60000000e+01, 4.47064000e+02, 0.00000000e+00, 4.00000000e+00,\n",
       "       9.00000000e+00, 0.00000000e+00, 4.00000000e+00, 2.62300000e+03,\n",
       "       0.00000000e+00, 4.99000000e+02, 6.00000000e+00, 9.01000000e+02,\n",
       "       7.88000000e+02, 1.83632000e+02, 1.45000000e+02, 1.34381000e+02,\n",
       "       3.40800000e+03, 3.10000000e+01, 4.00000000e+00, 1.50000000e+01,\n",
       "       3.90000000e+01, 1.00000000e+00, 2.34000000e+02, 2.60000000e+01,\n",
       "       4.00000000e+00, 7.00000000e+00, 4.90000000e+01, 1.00000000e+00,\n",
       "       3.54564000e+02, 2.36000000e+02, 9.00000000e+00, 3.00000000e+00,\n",
       "       4.12055000e+02, 1.42694000e+02, 2.42394400e+03, 0.00000000e+00,\n",
       "       2.76400000e+01, 7.00000000e+00, 3.00000000e+00, 1.00000000e+00,\n",
       "       2.42900000e+03, 0.00000000e+00, 3.21000000e+02, 6.00000000e+00,\n",
       "       1.18000000e+03, 5.79000000e+02, 4.72523000e+02, 5.80000000e+01,\n",
       "       5.20000000e+01, 4.07953400e+03, 1.40000000e+01, 0.00000000e+00,\n",
       "       1.20000000e+01, 1.10000000e+01, 0.00000000e+00, 2.80000000e+02,\n",
       "       2.00000000e+00, 2.00000000e+00, 1.00000000e+00, 2.90000000e+01,\n",
       "       1.00000000e+00, 4.71233000e+02, 3.30000000e+02, 2.00000000e+00,\n",
       "       6.00000000e+00, 2.91393980e+02, 9.75730000e+01, 9.62866000e+02,\n",
       "       0.00000000e+00, 7.00000000e+00, 1.10000000e+01, 1.00000000e+00,\n",
       "       2.00000000e+00, 3.44900000e+03, 0.00000000e+00, 3.70000000e+02,\n",
       "       6.00000000e+00, 1.00700000e+03, 3.80000000e+02, 2.20475000e+02,\n",
       "       1.09000000e+02, 6.74010000e+01, 3.16148900e+03, 3.00000000e+00,\n",
       "       0.00000000e+00, 2.90000000e+01, 3.10000000e+01, 0.00000000e+00,\n",
       "       2.77000000e+02, 2.00000000e+00, 0.00000000e+00, 3.00000000e+00,\n",
       "       2.10000000e+01, 1.00000000e+00, 1.08595000e+02, 3.29000000e+02,\n",
       "       2.00000000e+00, 1.10000000e+01, 1.53788000e+02, 9.40730000e+01,\n",
       "       1.23640400e+03, 0.00000000e+00, 0.00000000e+00, 2.00000000e+00,\n",
       "       0.00000000e+00, 1.00000000e+00, 1.09500000e+03, 0.00000000e+00,\n",
       "       9.80000000e+01, 8.00000000e+00, 5.37000000e+02, 2.12000000e+02,\n",
       "       1.03000000e+02, 5.30000000e+01, 2.60000000e+01, 1.58800000e+03,\n",
       "       3.00000000e+00, 0.00000000e+00, 1.50000000e+01, 1.20000000e+01,\n",
       "       0.00000000e+00, 1.22000000e+02, 0.00000000e+00, 0.00000000e+00,\n",
       "       6.00000000e+00, 1.10000000e+01, 0.00000000e+00, 1.11437004e+02,\n",
       "       1.48000000e+02, 1.00000000e+00, 1.00000000e+00, 3.30179980e+01,\n",
       "       3.10000000e+01, 2.98441000e+02, 1.00000000e+00, 2.00000000e+00,\n",
       "       2.00000000e+00, 0.00000000e+00, 0.00000000e+00, 1.36400000e+03,\n",
       "       0.00000000e+00, 2.03313000e+02, 1.00000000e+01, 5.39000000e+02,\n",
       "       4.53000000e+02, 1.38179000e+02, 5.20000000e+01, 7.00340000e+01,\n",
       "       2.07600000e+03, 1.20000000e+01, 0.00000000e+00, 6.00000000e+00,\n",
       "       1.30000000e+01, 0.00000000e+00, 1.36000000e+02, 3.00000000e+00,\n",
       "       0.00000000e+00, 2.00000000e+00, 3.20000000e+01, 0.00000000e+00,\n",
       "       8.00111000e+02, 1.63000000e+02, 1.00000000e+00, 0.00000000e+00,\n",
       "       3.12476000e+02, 3.49690000e+01, 1.07744000e+03, 0.00000000e+00,\n",
       "       1.02770000e+01, 3.00000000e+00, 0.00000000e+00, 6.00000000e+00,\n",
       "       3.20000000e+03, 0.00000000e+00, 6.14430000e+02, 3.20000000e+01,\n",
       "       9.74000000e+02, 1.01600000e+03, 1.98649000e+02, 1.58000000e+02,\n",
       "       1.78429000e+02, 3.52800000e+03, 2.30000000e+01, 1.00000000e+00,\n",
       "       1.80000000e+01, 2.70000000e+01, 0.00000000e+00, 2.70000000e+02,\n",
       "       1.70000000e+01, 1.00000000e+01, 8.00000000e+00, 9.20000000e+01,\n",
       "       1.10000000e+01, 2.35896000e+02, 2.74000000e+02, 8.00000000e+00,\n",
       "       1.30000000e+01, 3.89541000e+02, 1.05658005e+02, 3.40453100e+03,\n",
       "       0.00000000e+00, 2.87380000e+01, 1.00000000e+00, 0.00000000e+00,\n",
       "       3.00000000e+00, 1.55100000e+03, 0.00000000e+00, 1.96480000e+02,\n",
       "       3.00000000e+00, 3.75000000e+02, 4.08000000e+02, 7.31420000e+01,\n",
       "       8.50000000e+01, 8.62180000e+01, 1.40100000e+03, 5.00000000e+00,\n",
       "       0.00000000e+00, 1.70000000e+01, 7.00000000e+00, 0.00000000e+00,\n",
       "       8.40000000e+01, 0.00000000e+00, 3.00000000e+00, 6.00000000e+00,\n",
       "       9.90000000e+01, 2.00000000e+00, 1.23234000e+02, 9.10000000e+01,\n",
       "       7.00000000e+00, 3.00000000e+00, 1.05806000e+02, 4.00780000e+01,\n",
       "       9.62960000e+02, 0.00000000e+00, 4.00000000e+00, 1.00000000e+00,\n",
       "       0.00000000e+00, 2.00000000e+00, 6.18000000e+02, 0.00000000e+00,\n",
       "       1.31456000e+02, 5.00000000e+00, 2.78000000e+02, 1.20000000e+02,\n",
       "       4.29330000e+01, 1.60000000e+01, 5.33540000e+01, 9.63000000e+02,\n",
       "       0.00000000e+00, 0.00000000e+00, 1.50000000e+01, 0.00000000e+00,\n",
       "       0.00000000e+00, 5.60000000e+01, 2.00000000e+00, 0.00000000e+00,\n",
       "       3.00000000e+00, 1.00000000e+01, 0.00000000e+00, 1.77339000e+02,\n",
       "       1.13000000e+02, 1.00000000e+00, 1.00000000e+00, 1.08260000e+02,\n",
       "       1.80000000e+01, 2.79505000e+02, 0.00000000e+00, 2.00000000e+00,\n",
       "       6.00000000e+00, 0.00000000e+00, 4.00000000e+00, 2.09800000e+03,\n",
       "       0.00000000e+00, 4.55119000e+02, 9.00000000e+00, 7.04000000e+02,\n",
       "       6.94000000e+02, 1.80483000e+02, 1.62000000e+02, 1.20056000e+02,\n",
       "       2.53800000e+03, 1.40000000e+01, 4.00000000e+00, 1.40000000e+01,\n",
       "       1.80000000e+01, 0.00000000e+00, 1.45000000e+02, 1.00000000e+00,\n",
       "       8.00000000e+00, 0.00000000e+00, 7.50000000e+01, 3.00000000e+00,\n",
       "       2.52745000e+02, 4.91000000e+02, 8.00000000e+00, 5.00000000e+00,\n",
       "       2.95347000e+02, 8.20730000e+01, 1.85278600e+03, 2.00000000e+00,\n",
       "       2.35290000e+01, 4.00000000e+00, 0.00000000e+00, 1.00000000e+00,\n",
       "       2.65900000e+03, 0.00000000e+00, 4.31000000e+02, 1.20000000e+01,\n",
       "       8.34000000e+02, 4.62000000e+02, 3.06972000e+02, 1.53000000e+02,\n",
       "       8.98670040e+01, 2.88765400e+03, 3.00000000e+00, 0.00000000e+00,\n",
       "       2.30000000e+01, 1.70000000e+01, 0.00000000e+00, 1.88000000e+02,\n",
       "       0.00000000e+00, 0.00000000e+00, 2.00000000e+00, 2.60000000e+01,\n",
       "       2.00000000e+00, 2.75741000e+02, 4.55000000e+02, 3.00000000e+00,\n",
       "       0.00000000e+00, 2.09894000e+02, 6.47860000e+01, 1.08931900e+03,\n",
       "       0.00000000e+00, 9.00000000e+00, 6.00000000e+00, 0.00000000e+00,\n",
       "       1.00000000e+00, 1.68000000e+03, 0.00000000e+00, 4.26000000e+02,\n",
       "       5.00000000e+00, 7.68000000e+02, 3.98000000e+02, 2.10642000e+02,\n",
       "       1.42000000e+02, 5.20000000e+01, 2.40585700e+03, 7.00000000e+00,\n",
       "       3.00000000e+00, 1.60000000e+01, 1.70000000e+01, 1.00000000e+00,\n",
       "       1.67000000e+02, 0.00000000e+00, 0.00000000e+00, 6.00000000e+00,\n",
       "       7.50000000e+01, 1.00000000e+00, 1.62416000e+02, 2.60000000e+02,\n",
       "       3.00000000e+00, 2.00000000e+00, 1.37833000e+02, 4.57270000e+01,\n",
       "       7.26516000e+02, 1.00000000e+00, 5.00000000e+00, 1.60000000e+01,\n",
       "       0.00000000e+00, 8.00000000e+00, 6.56700000e+03, 0.00000000e+00,\n",
       "       1.11332600e+03, 4.40000000e+01, 1.91400000e+03, 1.91700000e+03,\n",
       "       2.83622000e+02, 3.76000000e+02, 3.63709000e+02, 6.48700000e+03,\n",
       "       5.80000000e+01, 4.00000000e+00, 4.30000000e+01, 6.60000000e+01,\n",
       "       2.00000000e+00, 4.38000000e+02, 3.80000000e+01, 5.00000000e+00,\n",
       "       1.40000000e+01, 2.09000000e+02, 2.00000000e+00, 6.44307000e+02,\n",
       "       5.30000000e+02, 2.40000000e+01, 1.60000000e+01, 1.02905200e+03,\n",
       "       2.92207000e+02, 7.86003100e+03, 2.00000000e+00, 8.19630000e+01,\n",
       "       2.00000000e+00, 0.00000000e+00, 1.00000000e+00, 1.29800000e+03,\n",
       "       0.00000000e+00, 1.59000000e+02, 2.00000000e+00, 5.36000000e+02,\n",
       "       2.37000000e+02, 8.90000000e+01, 1.00000000e+02, 6.25540000e+01,\n",
       "       1.54100000e+03, 4.00000000e+00, 0.00000000e+00, 1.30000000e+01,\n",
       "       3.00000000e+00, 0.00000000e+00, 1.17000000e+02, 2.00000000e+00,\n",
       "       0.00000000e+00, 0.00000000e+00, 2.80000000e+01, 1.00000000e+00,\n",
       "       1.34618000e+02, 1.03000000e+02, 3.00000000e+00, 3.00000000e+00,\n",
       "       1.26062000e+02, 3.40000000e+01, 4.46038000e+02, 0.00000000e+00,\n",
       "       1.00000000e+00, 9.00000000e+00, 2.00000000e+00, 3.00000000e+00,\n",
       "       2.27000000e+03, 0.00000000e+00, 4.21000000e+02, 4.00000000e+00,\n",
       "       1.18600000e+03, 5.67000000e+02, 2.81808000e+02, 2.44000000e+02,\n",
       "       1.04925000e+02, 3.89079700e+03, 1.30000000e+01, 1.00000000e+00,\n",
       "       1.00000000e+01, 1.50000000e+01, 1.00000000e+00, 2.33000000e+02,\n",
       "       1.00000000e+00, 0.00000000e+00, 4.00000000e+00, 1.40000000e+01,\n",
       "       0.00000000e+00, 5.35779000e+02, 3.45000000e+02, 2.00000000e+00,\n",
       "       9.00000000e+00, 1.64079000e+02, 9.90000000e+01, 1.15538500e+03,\n",
       "       0.00000000e+00, 8.00000000e+00, 5.00000000e+00, 0.00000000e+00,\n",
       "       0.00000000e+00, 6.13000000e+02, 0.00000000e+00, 6.40000000e+01,\n",
       "       0.00000000e+00, 3.18000000e+02, 1.00000000e+02, 9.40000000e+01,\n",
       "       8.00000000e+01, 2.10000000e+01, 1.02700000e+03, 1.00000000e+00,\n",
       "       1.00000000e+00, 3.00000000e+00, 3.00000000e+00, 0.00000000e+00,\n",
       "       9.10000000e+01, 0.00000000e+00, 0.00000000e+00, 2.00000000e+00,\n",
       "       3.00000000e+01, 0.00000000e+00, 7.12690000e+01, 8.70000000e+01,\n",
       "       0.00000000e+00, 0.00000000e+00, 5.98080020e+01, 3.00000000e+00,\n",
       "       1.20202000e+02, 0.00000000e+00, 3.00000000e+00, 1.00000000e+00,\n",
       "       0.00000000e+00, 1.00000000e+00, 1.73100000e+03, 0.00000000e+00,\n",
       "       1.93000000e+02, 4.00000000e+00, 1.13500000e+03, 3.53000000e+02,\n",
       "       1.87000000e+02, 1.76000000e+02, 3.22800000e+01, 2.94746500e+03,\n",
       "       3.00000000e+00, 2.00000000e+00, 1.00000000e+02, 1.70000000e+01,\n",
       "       0.00000000e+00, 2.10000000e+02, 0.00000000e+00, 0.00000000e+00,\n",
       "       3.00000000e+00, 3.20000000e+01, 1.00000000e+00, 2.62509000e+02,\n",
       "       2.79000000e+02, 3.00000000e+00, 3.00000000e+00, 2.14322000e+02,\n",
       "       2.30000000e+01, 8.62092000e+02, 0.00000000e+00, 3.00000000e+00,\n",
       "       3.00000000e+00, 2.00000000e+00, 1.00000000e+00, 2.24000000e+03,\n",
       "       0.00000000e+00, 5.11000000e+02, 1.70000000e+01, 8.85000000e+02,\n",
       "       4.90000000e+02, 2.29672000e+02, 1.28000000e+02, 1.48670000e+02,\n",
       "       3.19163100e+03, 7.00000000e+00, 2.00000000e+00, 2.90000000e+01,\n",
       "       1.80000000e+01, 0.00000000e+00, 2.19000000e+02, 4.00000000e+00,\n",
       "       0.00000000e+00, 3.00000000e+00, 3.70000000e+01, 1.00000000e+00,\n",
       "       1.29390000e+02, 3.30000000e+02, 1.00000000e+00, 6.00000000e+00,\n",
       "       1.08375000e+02, 9.00000000e+00, 4.73952000e+02, 6.00000000e+00,\n",
       "       2.00000000e+00, 3.00000000e+00, 0.00000000e+00, 1.00000000e+00,\n",
       "       1.86600000e+03, 0.00000000e+00, 5.90000000e+01, 3.00000000e+00,\n",
       "       3.83000000e+02, 1.29000000e+02, 9.70000000e+01, 5.60000000e+01,\n",
       "       4.34040000e+01, 1.29300000e+03, 5.00000000e+00, 0.00000000e+00,\n",
       "       9.00000000e+00, 1.10000000e+01, 0.00000000e+00, 6.70000000e+01,\n",
       "       0.00000000e+00, 0.00000000e+00, 0.00000000e+00, 1.80000000e+01,\n",
       "       1.00000000e+00, 2.28813000e+02, 7.70000000e+01, 1.00000000e+00,\n",
       "       0.00000000e+00, 4.59500000e+01, 9.00000000e+00, 2.54263000e+02,\n",
       "       1.00000000e+00, 0.00000000e+00, 3.00000000e+00, 0.00000000e+00,\n",
       "       4.00000000e+00, 2.64300000e+03, 0.00000000e+00, 4.69000000e+02,\n",
       "       6.00000000e+00, 8.92000000e+02, 4.92000000e+02, 2.00786000e+02,\n",
       "       8.30000000e+01, 5.40000000e+01, 3.92681200e+03, 7.00000000e+00,\n",
       "       0.00000000e+00, 5.80000000e+01, 0.00000000e+00, 1.00000000e+00,\n",
       "       2.09000000e+02, 0.00000000e+00, 7.00000000e+00, 2.00000000e+00,\n",
       "       8.70000000e+01, 0.00000000e+00, 4.26952000e+02, 3.31000000e+02,\n",
       "       2.00000000e+00, 6.00000000e+00, 1.38552000e+02, 5.70690000e+01,\n",
       "       1.27275500e+03, 1.00000000e+00, 0.00000000e+00, 2.00000000e+00,\n",
       "       0.00000000e+00, 2.00000000e+00, 2.48100000e+03, 0.00000000e+00,\n",
       "       4.42077000e+02, 1.10000000e+01, 9.74000000e+02, 8.08000000e+02,\n",
       "       1.15189000e+02, 1.01000000e+02, 1.51977000e+02, 3.34900000e+03,\n",
       "       2.90000000e+01, 4.00000000e+00, 2.10000000e+01, 2.60000000e+01,\n",
       "       1.00000000e+00, 2.34000000e+02, 1.50000000e+01, 0.00000000e+00,\n",
       "       1.00000000e+00, 7.00000000e+01, 5.00000000e+00, 1.95077000e+02,\n",
       "       2.94000000e+02, 9.00000000e+00, 3.00000000e+00, 2.56829000e+02,\n",
       "       1.03247000e+02, 2.77577100e+03, 0.00000000e+00, 2.96700000e+01,\n",
       "       4.00000000e+00, 0.00000000e+00, 0.00000000e+00, 1.86700000e+03,\n",
       "       0.00000000e+00, 4.77963000e+02, 1.00000000e+01, 9.05000000e+02,\n",
       "       7.08000000e+02, 1.01627000e+02, 6.00000000e+01, 1.50641000e+02,\n",
       "       3.07800000e+03, 1.90000000e+01, 2.00000000e+00, 1.50000000e+01,\n",
       "       9.00000000e+00, 0.00000000e+00, 2.45000000e+02, 2.20000000e+01,\n",
       "       1.10000000e+01, 1.00000000e+00, 6.50000000e+01, 4.00000000e+00,\n",
       "       3.56909000e+02, 3.48000000e+02, 3.00000000e+00, 2.00000000e+00,\n",
       "       1.28621000e+02, 8.87720000e+01, 2.03076200e+03, 0.00000000e+00,\n",
       "       1.82040000e+01, 7.00000000e+00, 1.00000000e+00, 3.00000000e+00,\n",
       "       2.95100000e+03, 0.00000000e+00, 6.55000000e+02, 2.00000000e+01,\n",
       "       1.19400000e+03, 5.11000000e+02, 1.57656000e+02, 2.66000000e+02,\n",
       "       9.76390000e+01, 3.67415000e+03, 1.80000000e+01, 1.00000000e+00,\n",
       "       2.20000000e+01, 1.40000000e+01, 0.00000000e+00, 2.97000000e+02,\n",
       "       9.00000000e+00, 0.00000000e+00, 2.00000000e+00, 8.30000000e+01,\n",
       "       1.00000000e+00, 2.18750990e+02, 2.58000000e+02, 2.00000000e+00,\n",
       "       2.00000000e+00, 2.05541000e+02, 7.03850000e+01, 1.65743200e+03,\n",
       "       1.00000000e+00, 1.06119995e+01, 9.00000000e+00, 0.00000000e+00,\n",
       "       2.00000000e+00, 2.19100000e+03, 0.00000000e+00, 4.25449000e+02,\n",
       "       7.00000000e+00, 9.39000000e+02, 7.16000000e+02, 1.93776000e+02,\n",
       "       1.33000000e+02, 1.43356000e+02, 2.97700000e+03, 1.50000000e+01,\n",
       "       0.00000000e+00, 1.60000000e+01, 1.80000000e+01, 1.00000000e+00,\n",
       "       2.18000000e+02, 3.20000000e+01, 4.00000000e+00, 1.00000000e+00,\n",
       "       5.10000000e+01, 1.00000000e+00, 3.15396000e+02, 2.36000000e+02,\n",
       "       1.00000000e+00, 7.00000000e+00, 3.88726000e+02, 9.98280000e+01,\n",
       "       2.33990600e+03, 0.00000000e+00, 2.54170000e+01, 5.00000000e+00,\n",
       "       0.00000000e+00, 0.00000000e+00, 2.56100000e+03, 0.00000000e+00,\n",
       "       3.02000000e+02, 4.00000000e+00, 1.32500000e+03, 3.88000000e+02,\n",
       "       1.81000000e+02, 8.90000000e+01, 9.09330000e+01, 4.04500000e+03,\n",
       "       1.20000000e+01, 1.00000000e+00, 2.00000000e+01, 9.00000000e+00,\n",
       "       0.00000000e+00, 2.90000000e+02, 0.00000000e+00, 1.00000000e+00,\n",
       "       0.00000000e+00, 1.20000000e+01, 1.00000000e+00, 5.98030000e+01,\n",
       "       3.12000000e+02, 5.00000000e+00, 6.00000000e+00, 1.04162000e+02,\n",
       "       5.30000000e+01, 7.22333000e+02, 0.00000000e+00, 3.00000000e+00,\n",
       "       5.00000000e+00, 0.00000000e+00, 1.00000000e+00, 1.43600000e+03,\n",
       "       0.00000000e+00, 3.46863000e+02, 1.00000000e+01, 6.59000000e+02,\n",
       "       5.22000000e+02, 1.43368000e+02, 8.00000000e+01, 1.51325000e+02,\n",
       "       2.22900000e+03, 9.00000000e+00, 2.00000000e+00, 6.00000000e+00,\n",
       "       2.10000000e+01, 0.00000000e+00, 1.32000000e+02, 6.00000000e+00,\n",
       "       5.00000000e+00, 3.00000000e+00, 8.90000000e+01, 4.00000000e+00,\n",
       "       1.57430010e+02, 2.39000000e+02, 8.00000000e+00, 1.00000000e+00,\n",
       "       1.20466000e+02, 5.60190000e+01, 1.56784300e+03, 0.00000000e+00,\n",
       "       5.00000000e+00, 4.00000000e+00, 0.00000000e+00, 6.00000000e+00,\n",
       "       1.85700000e+03, 0.00000000e+00, 4.63002000e+02, 2.00000000e+00,\n",
       "       6.41000000e+02, 7.05000000e+02, 1.04933000e+02, 8.60000000e+01,\n",
       "       1.11979004e+02, 2.24300000e+03, 2.20000000e+01, 0.00000000e+00,\n",
       "       9.00000000e+00, 2.10000000e+01, 1.00000000e+00, 1.58000000e+02,\n",
       "       9.00000000e+00, 2.10000000e+01, 1.00000000e+00, 5.80000000e+01,\n",
       "       1.00000000e+00, 1.59795000e+02, 2.20000000e+02, 3.00000000e+00,\n",
       "       1.00000000e+00, 1.78191000e+02, 9.07780000e+01, 2.45845600e+03,\n",
       "       1.00000000e+00, 5.47200000e+00, 5.00000000e+00, 0.00000000e+00,\n",
       "       2.00000000e+00, 3.43600000e+03, 0.00000000e+00, 2.95000000e+02,\n",
       "       8.00000000e+00, 1.16400000e+03, 2.71000000e+02, 2.51000000e+02,\n",
       "       1.36000000e+02, 4.90000000e+01, 3.34800000e+03, 2.00000000e+00,\n",
       "       1.00000000e+00, 1.60000000e+01, 1.30000000e+01, 0.00000000e+00,\n",
       "       2.29000000e+02, 0.00000000e+00, 0.00000000e+00, 2.00000000e+00,\n",
       "       2.20000000e+01, 1.00000000e+00, 1.69771000e+02, 2.69000000e+02,\n",
       "       0.00000000e+00, 5.00000000e+00, 2.10722000e+02, 8.00000000e+01,\n",
       "       6.73885000e+02, 0.00000000e+00, 0.00000000e+00, 1.50000000e+01,\n",
       "       0.00000000e+00, 8.00000000e+00, 7.00500000e+03, 0.00000000e+00,\n",
       "       1.01651300e+03, 3.60000000e+01, 2.17200000e+03, 2.37100000e+03,\n",
       "       3.52400000e+02, 4.31000000e+02, 5.25295000e+02, 7.59400000e+03,\n",
       "       4.70000000e+01, 5.00000000e+00, 1.42000000e+02, 7.00000000e+01,\n",
       "       3.00000000e+00, 4.59000000e+02, 1.90000000e+01, 3.00000000e+00,\n",
       "       2.80000000e+01, 2.26000000e+02, 7.00000000e+00, 7.59851000e+02,\n",
       "       4.58000000e+02, 3.20000000e+01, 4.00000000e+01, 1.10719900e+03,\n",
       "       4.56322000e+02, 8.83415000e+03, 1.30000000e+01, 9.59860000e+01,\n",
       "       6.00000000e+00, 0.00000000e+00, 1.20000000e+01, 6.77100000e+03,\n",
       "       0.00000000e+00, 8.37780000e+02, 3.30000000e+01, 2.27100000e+03,\n",
       "       1.80000000e+03, 4.45720000e+02, 2.28000000e+02, 4.05855000e+02,\n",
       "       7.69400000e+03, 3.40000000e+01, 1.00000000e+00, 8.30000000e+01,\n",
       "       9.70000000e+01, 1.00000000e+00, 5.10000000e+02, 4.00000000e+00])"
      ]
     },
     "execution_count": 29,
     "metadata": {},
     "output_type": "execute_result"
    }
   ],
   "source": [
    "produce_array = sales_array[family_array == 'PRODUCE']\n",
    "sales_array"
   ]
  },
  {
   "cell_type": "code",
   "execution_count": 30,
   "id": "96eaf423",
   "metadata": {},
   "outputs": [
    {
     "ename": "AttributeError",
     "evalue": "'numpy.ndarray' object has no attribute 'rng'",
     "output_type": "error",
     "traceback": [
      "\u001b[1;31m---------------------------------------------------------------------------\u001b[0m",
      "\u001b[1;31mAttributeError\u001b[0m                            Traceback (most recent call last)",
      "Cell \u001b[1;32mIn[30], line 4\u001b[0m\n\u001b[0;32m      1\u001b[0m \u001b[38;5;28;01mfrom\u001b[39;00m \u001b[38;5;21;01mnumpy\u001b[39;00m\u001b[38;5;21;01m.\u001b[39;00m\u001b[38;5;21;01mrandom\u001b[39;00m \u001b[38;5;28;01mimport\u001b[39;00m default_rng\n\u001b[0;32m      3\u001b[0m rng \u001b[38;5;241m=\u001b[39m default_rng\n\u001b[1;32m----> 4\u001b[0m samples \u001b[38;5;241m=\u001b[39m \u001b[43msales_array\u001b[49m\u001b[38;5;241;43m.\u001b[39;49m\u001b[43mrng\u001b[49m\u001b[38;5;241m.\u001b[39mrandom()\n",
      "\u001b[1;31mAttributeError\u001b[0m: 'numpy.ndarray' object has no attribute 'rng'"
     ]
    }
   ],
   "source": [
    "from numpy.random import default_rng\n",
    "\n",
    "rng = default_rng\n",
    "samples = sales_array.rng.random()"
   ]
  },
  {
   "cell_type": "code",
   "execution_count": null,
   "id": "432041d4",
   "metadata": {},
   "outputs": [],
   "source": []
  },
  {
   "cell_type": "code",
   "execution_count": null,
   "id": "e0186438",
   "metadata": {},
   "outputs": [],
   "source": []
  },
  {
   "cell_type": "code",
   "execution_count": null,
   "id": "33c9a16a",
   "metadata": {},
   "outputs": [],
   "source": []
  },
  {
   "cell_type": "code",
   "execution_count": null,
   "id": "2aebf230",
   "metadata": {},
   "outputs": [],
   "source": []
  }
 ],
 "metadata": {
  "kernelspec": {
   "display_name": "Python 3 (ipykernel)",
   "language": "python",
   "name": "python3"
  },
  "language_info": {
   "codemirror_mode": {
    "name": "ipython",
    "version": 3
   },
   "file_extension": ".py",
   "mimetype": "text/x-python",
   "name": "python",
   "nbconvert_exporter": "python",
   "pygments_lexer": "ipython3",
   "version": "3.11.4"
  }
 },
 "nbformat": 4,
 "nbformat_minor": 5
}
